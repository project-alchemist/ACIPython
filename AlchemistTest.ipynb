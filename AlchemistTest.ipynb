{
 "cells": [
  {
   "cell_type": "code",
   "execution_count": 1,
   "metadata": {},
   "outputs": [
    {
     "name": "stdout",
     "output_type": "stream",
     "text": [
      "Starting Alchemist session ... ready\n",
      "Connecting to Alchemist at 0.0.0.0:24960 ...Connected to Alchemist!\n"
     ]
    }
   ],
   "source": [
    "from alchemist import *\n",
    "import numpy as np\n",
    "\n",
    "using_docker = False\n",
    "\n",
    "als = AlchemistSession()        # Start Alchemist session\n",
    "\n",
    "als.connect_to_alchemist(\"0.0.0.0\", 24960)  "
   ]
  },
  {
   "cell_type": "code",
   "execution_count": 2,
   "metadata": {},
   "outputs": [
    {
     "name": "stdout",
     "output_type": "stream",
     "text": [
      "Requesting 3 workers from Alchemist\n",
      "Total allocated 3 workers:\n",
      "    Worker-1 on KaisMacBookPro.local at 0.0.0.0:24961\n",
      "    Worker-2 on KaisMacBookPro.local at 0.0.0.0:24962\n",
      "    Worker-3 on KaisMacBookPro.local at 0.0.0.0:24963\n",
      "Connecting to Alchemist at 0.0.0.0:24961 ...Connected to Alchemist!\n",
      "Connecting to Alchemist at 0.0.0.0:24962 ...Connected to Alchemist!\n",
      "Connecting to Alchemist at 0.0.0.0:24963 ...Connected to Alchemist!\n",
      "Listing 3 Alchemist workers:\n",
      "    Worker-1 on KaisMacBookPro.local at 0.0.0.0:24961\n",
      "    Worker-2 on KaisMacBookPro.local at 0.0.0.0:24962\n",
      "    Worker-3 on KaisMacBookPro.local at 0.0.0.0:24963\n",
      "Listing 3 active Alchemist workers:\n",
      "    Worker-1 on KaisMacBookPro.local at 0.0.0.0:24961\n",
      "    Worker-2 on KaisMacBookPro.local at 0.0.0.0:24962\n",
      "    Worker-3 on KaisMacBookPro.local at 0.0.0.0:24963\n",
      "No inactive Alchemist workers\n",
      "Listing 3 assigned Alchemist workers:\n",
      "    Worker-1 on KaisMacBookPro.local at 0.0.0.0:24961\n",
      "    Worker-2 on KaisMacBookPro.local at 0.0.0.0:24962\n",
      "    Worker-3 on KaisMacBookPro.local at 0.0.0.0:24963\n"
     ]
    }
   ],
   "source": [
    "als.request_workers(3)  \n",
    "\n",
    "als.list_all_workers()\n",
    "als.list_active_workers()\n",
    "als.list_inactive_workers()\n",
    "\n",
    "als.list_assigned_workers()"
   ]
  },
  {
   "cell_type": "code",
   "execution_count": 3,
   "metadata": {},
   "outputs": [
    {
     "name": "stdout",
     "output_type": "stream",
     "text": [
      "Library 'TestLib' at /Users/kai/Projects/AlLib/target/testlib.dylib successfully loaded.\n"
     ]
    }
   ],
   "source": [
    "if using_docker:\n",
    "    TestLib = als.load_library(\"TestLib\", \"/usr/local/TestLib/target/testlib.so\")\n",
    "else:\n",
    "    TestLib = als.load_library(\"TestLib\", \"/Users/kai/Projects/AlLib/target/testlib.dylib\")"
   ]
  },
  {
   "cell_type": "code",
   "execution_count": 4,
   "metadata": {},
   "outputs": [],
   "source": [
    "# T = 1.0*np.arange(1, 50).reshape((7, 7))"
   ]
  },
  {
   "cell_type": "code",
   "execution_count": 5,
   "metadata": {},
   "outputs": [],
   "source": [
    "# lo = \"VC_STAR\"    # MC_MR, MC_STAR, MD_STAR, MR_MC, MR_STAR, STAR_MC, STAR_MD, STAR_MR, STAR_STAR, STAR_VC, \n",
    "#                   # STAR_VR, VC_STAR, VR_STAR\n",
    "\n",
    "# T = als.send_matrix(matrix=T, print_times=True, layout=lo)"
   ]
  },
  {
   "cell_type": "code",
   "execution_count": 6,
   "metadata": {},
   "outputs": [
    {
     "name": "stdout",
     "output_type": "stream",
     "text": [
      "Sending array info to Alchemist ... done (3.7120e-01s)\n",
      "Sending array data to Alchemist ... P\n",
      "[0, 10, 3]\n",
      "[0, 10, 1]\n",
      "P\n",
      "[1, 10, 3]\n",
      "[0, 10, 1]\n",
      "P\n",
      "[2, 10, 3]\n",
      "[0, 10, 1]\n",
      "done (2.5358e-03s)\n",
      "\n",
      "Data transfer times breakdown\n",
      "  ---------------------------------------------------------------------------------------------------------------\n",
      "    Worker  |   Serialization time   |       Send time        |      Receive time      |  Deserialization time  \n",
      "  ---------------------------------------------------------------------------------------------------------------\n",
      "        1   |       1.0800e-04       |       8.3923e-05       |       4.2987e-04       |       5.0068e-06       \n",
      "        2   |       8.8215e-05       |       6.3896e-05       |       2.8276e-04       |       4.7684e-06       \n",
      "        3   |       2.9302e-04       |       1.6475e-04       |       1.6403e-04       |       4.0531e-06       \n",
      "  ---------------------------------------------------------------------------------------------------------------\n",
      "\n"
     ]
    }
   ],
   "source": [
    "A = np.random.rand(10,10)\n",
    "\n",
    "A_handle = als.send_matrix(matrix=A, print_times=True, layout=\"VC_STAR\")"
   ]
  },
  {
   "cell_type": "code",
   "execution_count": 7,
   "metadata": {},
   "outputs": [
    {
     "name": "stdout",
     "output_type": "stream",
     "text": [
      "List of input parameters:\n",
      "    A (MATRIX ID) = 1\n",
      "    rank (INT) = 5\n",
      "Alchemist started task 'truncated_svd' ... done (6.0728e-01s)\n",
      "List of output parameters:\n",
      "    S (MATRIX INFO) = \n",
      "        Name:                  S\n",
      "        ID:                    2\n",
      "\n",
      "        Number of rows:        5\n",
      "        Number of columns:     1\n",
      "\n",
      "        Sparse:                0\n",
      "        Layout:                VR_STAR\n",
      "        Number of partitions:  3\n",
      "        Worker assignments:    {1: [0, 0], 2: [0, 1], 3: [0, 2]}\n",
      "    U (MATRIX INFO) = \n",
      "        Name:                  U\n",
      "        ID:                    3\n",
      "\n",
      "        Number of rows:        10\n",
      "        Number of columns:     5\n",
      "\n",
      "        Sparse:                0\n",
      "        Layout:                VR_STAR\n",
      "        Number of partitions:  3\n",
      "        Worker assignments:    {1: [0, 0], 2: [0, 1], 3: [0, 2]}\n",
      "    V (MATRIX INFO) = \n",
      "        Name:                  V\n",
      "        ID:                    4\n",
      "\n",
      "        Number of rows:        10\n",
      "        Number of columns:     5\n",
      "\n",
      "        Sparse:                0\n",
      "        Layout:                VR_STAR\n",
      "        Number of partitions:  3\n",
      "        Worker assignments:    {1: [0, 0], 2: [0, 1], 3: [0, 2]}\n"
     ]
    }
   ],
   "source": [
    "rank = 5\n",
    "S_handle, U_handle, V_handle = TestLib.truncated_svd(A_handle, rank)"
   ]
  },
  {
   "cell_type": "code",
   "execution_count": 8,
   "metadata": {
    "scrolled": true
   },
   "outputs": [
    {
     "name": "stdout",
     "output_type": "stream",
     "text": [
      "List of parameters:\n",
      "    S (MATRIX INFO) = \n",
      "        Name:                  S\n",
      "        ID:                    2\n",
      "\n",
      "        Number of rows:        5\n",
      "        Number of columns:     1\n",
      "\n",
      "        Sparse:                0\n",
      "        Layout:                VR_STAR\n",
      "        Number of partitions:  3\n",
      "        Worker assignments:    {1: [0, 0], 2: [0, 1], 3: [0, 2]}\n",
      "    U (MATRIX INFO) = \n",
      "        Name:                  U\n",
      "        ID:                    3\n",
      "\n",
      "        Number of rows:        10\n",
      "        Number of columns:     5\n",
      "\n",
      "        Sparse:                0\n",
      "        Layout:                VR_STAR\n",
      "        Number of partitions:  3\n",
      "        Worker assignments:    {1: [0, 0], 2: [0, 1], 3: [0, 2]}\n",
      "    V (MATRIX INFO) = \n",
      "        Name:                  V\n",
      "        ID:                    4\n",
      "\n",
      "        Number of rows:        10\n",
      "        Number of columns:     5\n",
      "\n",
      "        Sparse:                0\n",
      "        Layout:                VR_STAR\n",
      "        Number of partitions:  3\n",
      "        Worker assignments:    {1: [0, 0], 2: [0, 1], 3: [0, 2]}\n"
     ]
    }
   ],
   "source": [
    "als.display_parameters(TestLib.get_output_parameters(), \"List of parameters:\", \"    \")"
   ]
  },
  {
   "cell_type": "code",
   "execution_count": 9,
   "metadata": {},
   "outputs": [
    {
     "name": "stdout",
     "output_type": "stream",
     "text": [
      "Fetching data for array V from Alchemist ... P\n",
      "[0, 10, 3]\n",
      "[0, 5, 1]\n",
      "P\n",
      "[1, 10, 3]\n",
      "[0, 5, 1]\n",
      "P\n",
      "[2, 10, 3]\n",
      "[0, 5, 1]\n",
      "done (3.2880e-03s)\n",
      "\n",
      "Data transfer times breakdown for array V\n",
      "  ---------------------------------------------------------------------------------------------------------------\n",
      "    Worker  |   Serialization time   |       Send time        |      Receive time      |  Deserialization time  \n",
      "  ---------------------------------------------------------------------------------------------------------------\n",
      "        1   |       3.0279e-05       |       2.6107e-04       |       1.9979e-04       |       2.2078e-04       \n",
      "        2   |       1.0204e-04       |       8.4877e-05       |       6.2609e-04       |       1.3900e-04       \n",
      "        3   |       4.5061e-05       |       1.1587e-04       |       1.9693e-04       |       1.3018e-04       \n",
      "  ---------------------------------------------------------------------------------------------------------------\n",
      "\n",
      "Fetching data for array U from Alchemist ... P\n",
      "[0, 10, 3]\n",
      "[0, 5, 1]\n",
      "P\n",
      "[1, 10, 3]\n",
      "[0, 5, 1]\n",
      "P\n",
      "[2, 10, 3]\n",
      "[0, 5, 1]\n",
      "done (3.0243e-03s)\n",
      "\n",
      "Data transfer times breakdown for array U\n",
      "  ---------------------------------------------------------------------------------------------------------------\n",
      "    Worker  |   Serialization time   |       Send time        |      Receive time      |  Deserialization time  \n",
      "  ---------------------------------------------------------------------------------------------------------------\n",
      "        1   |       3.4094e-05       |       1.6260e-04       |       2.0504e-04       |       1.4782e-04       \n",
      "        2   |       8.5115e-05       |       2.6107e-04       |       2.7990e-04       |       1.5998e-04       \n",
      "        3   |       3.5048e-05       |       3.4285e-04       |       1.9193e-04       |       1.3900e-04       \n",
      "  ---------------------------------------------------------------------------------------------------------------\n",
      "\n",
      "Fetching data for array S from Alchemist ... P\n",
      "[0, 5, 3]\n",
      "[0, 1, 1]\n",
      "P\n",
      "[1, 5, 3]\n",
      "[0, 1, 1]\n",
      "P\n",
      "[2, 5, 3]\n",
      "[0, 1, 1]\n",
      "done (4.8871e-03s)\n",
      "\n",
      "Data transfer times breakdown for array S\n",
      "  ---------------------------------------------------------------------------------------------------------------\n",
      "    Worker  |   Serialization time   |       Send time        |      Receive time      |  Deserialization time  \n",
      "  ---------------------------------------------------------------------------------------------------------------\n",
      "        1   |       5.8889e-05       |       1.9159e-03       |       6.9857e-05       |       1.2112e-04       \n",
      "        2   |       3.4094e-05       |       6.4135e-05       |       1.0049e-03       |       1.1516e-04       \n",
      "        3   |       3.6716e-05       |       1.9884e-04       |       1.9217e-04       |       2.9492e-04       \n",
      "  ---------------------------------------------------------------------------------------------------------------\n",
      "\n"
     ]
    }
   ],
   "source": [
    "V = als.fetch_matrix(V_handle, print_times=True)\n",
    "U = als.fetch_matrix(U_handle, print_times=True)\n",
    "S = als.fetch_matrix(S_handle, print_times=True)"
   ]
  },
  {
   "cell_type": "code",
   "execution_count": null,
   "metadata": {},
   "outputs": [],
   "source": [
    "u, s, vh = np.linalg.svd(A, full_matrices=True)"
   ]
  },
  {
   "cell_type": "code",
   "execution_count": null,
   "metadata": {},
   "outputs": [],
   "source": [
    "print(np.linalg.norm(abs(V.T) - abs(np.flipud(vh[0:rank,:]))))\n",
    "print(np.linalg.norm(abs(U) - abs(np.fliplr(u[:,0:rank]))))\n",
    "print(np.linalg.norm(np.flip(S).T - s[0:rank]))"
   ]
  },
  {
   "cell_type": "code",
   "execution_count": null,
   "metadata": {},
   "outputs": [],
   "source": [
    "als.stop()"
   ]
  },
  {
   "cell_type": "code",
   "execution_count": null,
   "metadata": {},
   "outputs": [],
   "source": [
    "np.flipud(s)"
   ]
  },
  {
   "cell_type": "code",
   "execution_count": null,
   "metadata": {},
   "outputs": [],
   "source": [
    "abs(S)"
   ]
  },
  {
   "cell_type": "code",
   "execution_count": null,
   "metadata": {},
   "outputs": [],
   "source": [
    "A"
   ]
  },
  {
   "cell_type": "code",
   "execution_count": null,
   "metadata": {},
   "outputs": [],
   "source": []
  }
 ],
 "metadata": {
  "kernelspec": {
   "display_name": "Python 3",
   "language": "python",
   "name": "python3"
  },
  "language_info": {
   "codemirror_mode": {
    "name": "ipython",
    "version": 3
   },
   "file_extension": ".py",
   "mimetype": "text/x-python",
   "name": "python",
   "nbconvert_exporter": "python",
   "pygments_lexer": "ipython3",
   "version": "3.7.0"
  }
 },
 "nbformat": 4,
 "nbformat_minor": 2
}
