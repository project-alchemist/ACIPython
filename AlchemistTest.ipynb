{
 "cells": [
  {
   "cell_type": "code",
   "execution_count": 1,
   "metadata": {},
   "outputs": [],
   "source": [
    "testlib_path = \"/Users/kai/Projects/AlLib/target/testlib.dylib\""
   ]
  },
  {
   "cell_type": "code",
   "execution_count": 2,
   "metadata": {},
   "outputs": [
    {
     "name": "stdout",
     "output_type": "stream",
     "text": [
      "Starting Alchemist session ... ready\n",
      "Connecting to Alchemist at 0.0.0.0:24960 ...Connected to Alchemist!\n"
     ]
    }
   ],
   "source": [
    "from alchemist import *\n",
    "import numpy as np\n",
    "\n",
    "als = AlchemistSession()        # Start Alchemist session\n",
    "\n",
    "als.connect_to_alchemist(\"0.0.0.0\", 24960)"
   ]
  },
  {
   "cell_type": "code",
   "execution_count": 3,
   "metadata": {},
   "outputs": [
    {
     "name": "stdout",
     "output_type": "stream",
     "text": [
      "Requesting 3 workers from Alchemist\n",
      "Total allocated 3 workers:\n",
      "    Worker-1 on KaisMacBookPro.local at 0.0.0.0:24961\n",
      "    Worker-2 on KaisMacBookPro.local at 0.0.0.0:24962\n",
      "    Worker-3 on KaisMacBookPro.local at 0.0.0.0:24963\n",
      "Connecting to Alchemist at KaisMacBookPro.local:24961 ...Connected to Alchemist!\n",
      "Connecting to Alchemist at KaisMacBookPro.local:24962 ...Connected to Alchemist!\n",
      "Connecting to Alchemist at KaisMacBookPro.local:24963 ...Connected to Alchemist!\n"
     ]
    }
   ],
   "source": [
    "als.request_workers(3) "
   ]
  },
  {
   "cell_type": "code",
   "execution_count": 4,
   "metadata": {},
   "outputs": [
    {
     "name": "stdout",
     "output_type": "stream",
     "text": [
      "Library 'TestLib' successfully loaded.\n"
     ]
    }
   ],
   "source": [
    "TestLib = als.load_library(\"TestLib\", testlib_path)"
   ]
  },
  {
   "cell_type": "code",
   "execution_count": 5,
   "metadata": {},
   "outputs": [
    {
     "name": "stdout",
     "output_type": "stream",
     "text": [
      "Sending array info to Alchemist ... done (3.8446e-01s)\n",
      "Sending array data to Alchemist ... done (2.5355e+00s)\n",
      "\n",
      "Data transfer times breakdown\n",
      "  ---------------------------------------------------------------------------------------------------------------\n",
      "    Worker  |   Serialization time   |       Send time        |      Receive time      |  Deserialization time  \n",
      "  ---------------------------------------------------------------------------------------------------------------\n",
      "        1   |       1.6036e-02       |       3.5410e-03       |       6.1989e-05       |       6.9141e-06       \n",
      "        2   |       5.9960e-03       |       3.0582e-03       |       6.0320e-05       |       4.2915e-06       \n",
      "        3   |       7.2472e-03       |       3.9928e-03       |       7.0095e-05       |       2.8610e-06       \n",
      "  ---------------------------------------------------------------------------------------------------------------\n",
      "\n"
     ]
    }
   ],
   "source": [
    "A = np.random.rand(2000,1000)\n",
    "\n",
    "A_handle = als.send_matrix(matrix=A, print_times=True, layout=\"VC_STAR\")"
   ]
  },
  {
   "cell_type": "code",
   "execution_count": 6,
   "metadata": {},
   "outputs": [
    {
     "name": "stdout",
     "output_type": "stream",
     "text": [
      "List of input parameters:\n",
      "    A (MATRIX ID) = 1\n",
      "    rank (INT) = 20\n",
      "Alchemist started task 'truncated_svd' ... done (6.9877e-01s)\n"
     ]
    }
   ],
   "source": [
    "rank = 20\n",
    "S_handle, U_handle, V_handle = TestLib.truncated_svd(A_handle, rank)"
   ]
  },
  {
   "cell_type": "code",
   "execution_count": 7,
   "metadata": {},
   "outputs": [
    {
     "name": "stdout",
     "output_type": "stream",
     "text": [
      "Fetching data for array S from Alchemist ... done (3.4449e-03s)\n",
      "\n",
      "Data transfer times breakdown for array S\n",
      "  ---------------------------------------------------------------------------------------------------------------\n",
      "    Worker  |   Serialization time   |       Send time        |      Receive time      |  Deserialization time  \n",
      "  ---------------------------------------------------------------------------------------------------------------\n",
      "        1   |       8.8930e-05       |       1.0300e-03       |       4.2915e-05       |       3.9411e-04       \n",
      "        2   |       4.6015e-05       |       4.8161e-05       |       4.2915e-05       |       1.1897e-04       \n",
      "        3   |       4.0054e-05       |       3.1948e-05       |       3.9816e-05       |       1.0705e-04       \n",
      "  ---------------------------------------------------------------------------------------------------------------\n",
      "\n",
      "[[707.4330693   21.91546578  21.79424743  21.77359353  21.67895046\n",
      "   21.57445775  21.53187135  21.49050705  21.48289414  21.3745269\n",
      "   21.34498942  21.30107479  21.25832923  21.20115147  21.12756056\n",
      "   21.07182772  21.06608224  21.0169912   21.01120382  20.93019135]]\n"
     ]
    }
   ],
   "source": [
    "S = als.fetch_matrix(S_handle, print_times=True)\n",
    "\n",
    "print(np.flipud(S).transpose())"
   ]
  },
  {
   "cell_type": "code",
   "execution_count": 8,
   "metadata": {},
   "outputs": [
    {
     "name": "stdout",
     "output_type": "stream",
     "text": [
      "Fetching data for array V from Alchemist ... done (5.4564e-02s)\n",
      "\n",
      "Data transfer times breakdown for array V\n",
      "  ---------------------------------------------------------------------------------------------------------------\n",
      "    Worker  |   Serialization time   |       Send time        |      Receive time      |  Deserialization time  \n",
      "  ---------------------------------------------------------------------------------------------------------------\n",
      "        1   |       8.4877e-05       |       2.5415e-04       |       1.0395e-04       |       2.5082e-04       \n",
      "        2   |       2.5988e-05       |       2.9087e-05       |       1.0538e-04       |       2.5582e-04       \n",
      "        3   |       2.6226e-05       |       2.5988e-05       |       1.0967e-04       |       2.6298e-04       \n",
      "  ---------------------------------------------------------------------------------------------------------------\n",
      "\n",
      "Fetching data for array U from Alchemist ... done (8.0449e-02s)\n",
      "\n",
      "Data transfer times breakdown for array U\n",
      "  ---------------------------------------------------------------------------------------------------------------\n",
      "    Worker  |   Serialization time   |       Send time        |      Receive time      |  Deserialization time  \n",
      "  ---------------------------------------------------------------------------------------------------------------\n",
      "        1   |       2.8133e-05       |       3.6240e-05       |       2.6083e-04       |       3.3712e-04       \n",
      "        2   |       2.5988e-05       |       2.9802e-05       |       1.3709e-04       |       2.3389e-04       \n",
      "        3   |       2.0981e-05       |       2.0027e-05       |       1.3280e-04       |       2.3484e-04       \n",
      "  ---------------------------------------------------------------------------------------------------------------\n",
      "\n",
      "Fetching data for array S from Alchemist ... done (1.7474e-03s)\n",
      "\n",
      "Data transfer times breakdown for array S\n",
      "  ---------------------------------------------------------------------------------------------------------------\n",
      "    Worker  |   Serialization time   |       Send time        |      Receive time      |  Deserialization time  \n",
      "  ---------------------------------------------------------------------------------------------------------------\n",
      "        1   |       2.3127e-05       |       5.3406e-05       |       4.4107e-05       |       8.4162e-05       \n",
      "        2   |       2.0027e-05       |       3.5048e-05       |       2.9802e-05       |       1.3590e-04       \n",
      "        3   |       2.0981e-05       |       2.4390e-04       |       1.3113e-04       |       1.0610e-04       \n",
      "  ---------------------------------------------------------------------------------------------------------------\n",
      "\n"
     ]
    }
   ],
   "source": [
    "V = als.fetch_matrix(V_handle, print_times=True)\n",
    "U = als.fetch_matrix(U_handle, print_times=True)\n",
    "S = als.fetch_matrix(S_handle, print_times=True)"
   ]
  },
  {
   "cell_type": "code",
   "execution_count": 9,
   "metadata": {},
   "outputs": [],
   "source": [
    "u, s, vh = np.linalg.svd(A, full_matrices=True)"
   ]
  },
  {
   "cell_type": "code",
   "execution_count": 10,
   "metadata": {},
   "outputs": [
    {
     "name": "stdout",
     "output_type": "stream",
     "text": [
      "1.8692535862447696e-12\n",
      "1.8672534028413392e-12\n",
      "1.4413688216379792e-13\n"
     ]
    }
   ],
   "source": [
    "print(np.linalg.norm(abs(V.T) - abs(np.flipud(vh[0:rank,:]))))\n",
    "print(np.linalg.norm(abs(U) - abs(np.fliplr(u[:,0:rank]))))\n",
    "print(np.linalg.norm(np.flip(S).T - s[0:rank]))"
   ]
  },
  {
   "cell_type": "code",
   "execution_count": 11,
   "metadata": {},
   "outputs": [
    {
     "name": "stdout",
     "output_type": "stream",
     "text": [
      "Closing socket\n",
      "Closing socket\n",
      "Closing socket\n",
      "Closing socket\n"
     ]
    }
   ],
   "source": [
    "als.stop()"
   ]
  },
  {
   "cell_type": "code",
   "execution_count": null,
   "metadata": {},
   "outputs": [],
   "source": []
  }
 ],
 "metadata": {
  "kernelspec": {
   "display_name": "Python 3",
   "language": "python",
   "name": "python3"
  },
  "language_info": {
   "codemirror_mode": {
    "name": "ipython",
    "version": 3
   },
   "file_extension": ".py",
   "mimetype": "text/x-python",
   "name": "python",
   "nbconvert_exporter": "python",
   "pygments_lexer": "ipython3",
   "version": "3.7.0"
  }
 },
 "nbformat": 4,
 "nbformat_minor": 2
}
