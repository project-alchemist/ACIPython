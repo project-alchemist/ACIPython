{
 "cells": [
  {
   "cell_type": "code",
   "execution_count": null,
   "metadata": {},
   "outputs": [],
   "source": [
    "TESTLIB_PATH = \"/Users/kai/Projects/AlLib/target/testlib.dylib\"    # Set this to the location of the shared object\n",
    "# TESTLIB_PATH = \"/usr/local/TestLib/target/testlib.so\"\n",
    "HOSTNAME = \"localhost\"                                             # Set this to the name of the host and the port \n",
    "PORT = 24960                                                       # number that the Alchemist driver is running on"
   ]
  },
  {
   "cell_type": "code",
   "execution_count": null,
   "metadata": {},
   "outputs": [],
   "source": [
    "from alchemist import *\n",
    "import numpy as np\n",
    "\n",
    "als = AlchemistSession(worker_buffer_length=10000000)              # Start Alchemist session\n",
    "\n",
    "als.connect_to_alchemist(HOSTNAME, PORT)"
   ]
  },
  {
   "cell_type": "code",
   "execution_count": null,
   "metadata": {},
   "outputs": [],
   "source": [
    "als.request_workers(2) "
   ]
  },
  {
   "cell_type": "code",
   "execution_count": null,
   "metadata": {},
   "outputs": [],
   "source": [
    "TestLib = als.load_library(\"TestLib\", TESTLIB_PATH)"
   ]
  },
  {
   "cell_type": "code",
   "execution_count": null,
   "metadata": {},
   "outputs": [],
   "source": [
    "A = np.random.rand(2000,1000)\n",
    "\n",
    "A_handle = als.send_matrix(matrix=A, print_times=True, layout=\"VC_STAR\")"
   ]
  },
  {
   "cell_type": "code",
   "execution_count": null,
   "metadata": {},
   "outputs": [],
   "source": [
    "AA = als.fetch_matrix(A_handle, print_times=True)"
   ]
  },
  {
   "cell_type": "code",
   "execution_count": null,
   "metadata": {},
   "outputs": [],
   "source": [
    "import matplotlib.pyplot as plt\n",
    "\n",
    "ax = plt.imshow(A[1900:2000, :] - AA[1900:2000, :])\n",
    "plt.colorbar(ax)\n",
    "plt.show()\n",
    "\n",
    "print(np.linalg.norm(A - AA))"
   ]
  },
  {
   "cell_type": "code",
   "execution_count": null,
   "metadata": {},
   "outputs": [],
   "source": [
    "in_byte = 9\n",
    "in_char = 'y'\n",
    "in_short = 9876\n",
    "in_int = 987654321\n",
    "in_long = 98765432123456789\n",
    "in_float = 77.77777777\n",
    "in_double = 88.88888888888888888\n",
    "in_string = \"test string\"\n",
    "\n",
    "TestLib.greet(in_byte, in_char, in_short, in_int, in_long, in_float, in_double, in_string)"
   ]
  },
  {
   "cell_type": "code",
   "execution_count": null,
   "metadata": {},
   "outputs": [],
   "source": [
    "rank = 20\n",
    "S_handle, U_handle, V_handle = TestLib.truncated_svd(A_handle, rank)"
   ]
  },
  {
   "cell_type": "code",
   "execution_count": null,
   "metadata": {},
   "outputs": [],
   "source": [
    "S = als.fetch_matrix(S_handle, print_times=True)\n",
    "\n",
    "print(np.flipud(S).transpose())"
   ]
  },
  {
   "cell_type": "code",
   "execution_count": null,
   "metadata": {},
   "outputs": [],
   "source": [
    "V = als.fetch_matrix(V_handle, print_times=True)\n",
    "U = als.fetch_matrix(U_handle, print_times=True)\n",
    "S = als.fetch_matrix(S_handle, print_times=True)"
   ]
  },
  {
   "cell_type": "code",
   "execution_count": null,
   "metadata": {},
   "outputs": [],
   "source": [
    "u, s, vh = np.linalg.svd(A, full_matrices=True)"
   ]
  },
  {
   "cell_type": "code",
   "execution_count": null,
   "metadata": {},
   "outputs": [],
   "source": [
    "print(np.linalg.norm(abs(V.T) - abs(np.flipud(vh[0:rank,:]))))\n",
    "print(np.linalg.norm(abs(U) - abs(np.fliplr(u[:,0:rank]))))\n",
    "print(np.linalg.norm(np.flip(S).T - s[0:rank]))"
   ]
  },
  {
   "cell_type": "code",
   "execution_count": null,
   "metadata": {},
   "outputs": [],
   "source": [
    "als.stop()"
   ]
  },
  {
   "cell_type": "code",
   "execution_count": null,
   "metadata": {},
   "outputs": [],
   "source": []
  }
 ],
 "metadata": {
  "kernelspec": {
   "display_name": "Python 3",
   "language": "python",
   "name": "python3"
  },
  "language_info": {
   "codemirror_mode": {
    "name": "ipython",
    "version": 3
   },
   "file_extension": ".py",
   "mimetype": "text/x-python",
   "name": "python",
   "nbconvert_exporter": "python",
   "pygments_lexer": "ipython3",
   "version": "3.7.0"
  }
 },
 "nbformat": 4,
 "nbformat_minor": 2
}
