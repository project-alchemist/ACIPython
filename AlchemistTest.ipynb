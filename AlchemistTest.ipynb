{
 "cells": [
  {
   "cell_type": "code",
   "execution_count": 1,
   "metadata": {},
   "outputs": [],
   "source": [
    "testlib_path = \"/data/Alchemist-TestLib/target/testlib.dylib\" #\"\"/Users/kai/Projects/AlLib/target/testlib.dylib\""
   ]
  },
  {
   "cell_type": "code",
   "execution_count": 2,
   "metadata": {},
   "outputs": [
    {
     "name": "stdout",
     "output_type": "stream",
     "text": [
      "Starting Alchemist session ... ready\n",
      "Connecting to Alchemist at 0.0.0.0:24960 ... \n",
      "                    ==================================================================\n",
      "                     Client ID:            0\n",
      "                     Session ID:           0\n",
      "                     Command code:         1 (HANDSHAKE)\n",
      "                     Error code:           0 (NONE)\n",
      "                     Message body length:  180\n",
      "                    -----------------------------------------------------------------\n",
      "                     BYTE                  4\n",
      "                     SHORT                 1234\n",
      "                     STRING                ABCD\n",
      "                     DOUBLE                1.11\n",
      "                     DOUBLE                2.22\n",
      "                     MATRIX BLOCK          4x3 | [0 1 2 3] | [0 1 2]\n",
      "                     INT                   100000010\n",
      "                    ==================================================================\n",
      " \n",
      "                    ==================================================================\n",
      "                     Client ID:            1\n",
      "                     Session ID:           1\n",
      "                     Command code:         1 (HANDSHAKE)\n",
      "                     Error code:           0 (NONE)\n",
      "                     Message body length:  19\n",
      "                    -----------------------------------------------------------------\n",
      "                     SHORT                 4321\n",
      "                     STRING                DCBA\n",
      "                     DOUBLE                3.33\n",
      "                    ==================================================================\n",
      "Connected to Alchemist!\n"
     ]
    }
   ],
   "source": [
    "from alchemist import *\n",
    "import numpy as np\n",
    "\n",
    "als = AlchemistSession()        # Start Alchemist session\n",
    "\n",
    "als.connect_to_alchemist(\"0.0.0.0\", 24960)"
   ]
  },
  {
   "cell_type": "code",
   "execution_count": 3,
   "metadata": {},
   "outputs": [
    {
     "name": "stdout",
     "output_type": "stream",
     "text": [
      "Requesting 3 workers from Alchemist\n",
      " \n",
      "                    ==================================================================\n",
      "                     Client ID:            1\n",
      "                     Session ID:           1\n",
      "                     Command code:         11 (REQUEST_WORKERS)\n",
      "                     Error code:           0 (NONE)\n",
      "                     Message body length:  3\n",
      "                    -----------------------------------------------------------------\n",
      "                     SHORT                 3\n",
      "                    ==================================================================\n",
      " \n",
      "                    ==================================================================\n",
      "                     Client ID:            1\n",
      "                     Session ID:           1\n",
      "                     Command code:         11 (REQUEST_WORKERS)\n",
      "                     Error code:           0 (NONE)\n",
      "                     Message body length:  93\n",
      "                    -----------------------------------------------------------------\n",
      "                     SHORT                 3\n",
      "                     WORKER INFO           \n",
      "                                           ID:           1\n",
      "                                           Hostname:     4db8265a29fe\n",
      "                                           Address:      0.0.0.0\n",
      "                                           Port:         24961\n",
      "                                           Group ID:     1\n",
      "\n",
      "                     WORKER INFO           \n",
      "                                           ID:           2\n",
      "                                           Hostname:     4db8265a29fe\n",
      "                                           Address:      0.0.0.0\n",
      "                                           Port:         24962\n",
      "                                           Group ID:     1\n",
      "\n",
      "                     WORKER INFO           \n",
      "                                           ID:           3\n",
      "                                           Hostname:     4db8265a29fe\n",
      "                                           Address:      0.0.0.0\n",
      "                                           Port:         24963\n",
      "                                           Group ID:     1\n",
      "\n",
      "                    ==================================================================\n",
      "3 allocated workers:\n",
      "    Worker-1 on 4db8265a29fe at 0.0.0.0:24961\n",
      "    Worker-2 on 4db8265a29fe at 0.0.0.0:24962\n",
      "    Worker-3 on 4db8265a29fe at 0.0.0.0:24963\n",
      "Connecting to Alchemist at 4db8265a29fe:24961 ...ERROR: Address-related error connecting to Alchemist\n",
      "Connecting to Alchemist at 4db8265a29fe:24962 ...ERROR: Address-related error connecting to Alchemist\n",
      "Connecting to Alchemist at 4db8265a29fe:24963 ...ERROR: Address-related error connecting to Alchemist\n"
     ]
    }
   ],
   "source": [
    "als.request_workers(3) "
   ]
  },
  {
   "cell_type": "code",
   "execution_count": 4,
   "metadata": {},
   "outputs": [
    {
     "name": "stdout",
     "output_type": "stream",
     "text": [
      " \n",
      "                    ==================================================================\n",
      "                     Client ID:            1\n",
      "                     Session ID:           1\n",
      "                     Command code:         22 (LOAD_LIBRARY)\n",
      "                     Error code:           0 (NONE)\n",
      "                     Message body length:  57\n",
      "                    -----------------------------------------------------------------\n",
      "                     STRING                TestLib\n",
      "                     STRING                /data/Alchemist-TestLib/target/testlib.dylib\n",
      "                    ==================================================================\n",
      " \n",
      "                    ==================================================================\n",
      "                     Client ID:            1\n",
      "                     Session ID:           1\n",
      "                     Command code:         22 (LOAD_LIBRARY)\n",
      "                     Error code:           0 (NONE)\n",
      "                     Message body length:  2\n",
      "                    -----------------------------------------------------------------\n",
      "                     LIBRARY ID            0\n",
      "                    ==================================================================\n",
      "ERROR: Unable to load library 'TestLib' at /data/Alchemist-TestLib/target/testlib.dylib, check path.\n"
     ]
    }
   ],
   "source": [
    "TestLib = als.load_library(\"TestLib\", testlib_path)"
   ]
  },
  {
   "cell_type": "code",
   "execution_count": 5,
   "metadata": {},
   "outputs": [
    {
     "name": "stdout",
     "output_type": "stream",
     "text": [
      "Sending array info to Alchemist ...  \n",
      "                    ==================================================================\n",
      "                     Client ID:            1\n",
      "                     Session ID:           1\n",
      "                     Command code:         31 (SEND_MATRIX_INFO)\n",
      "                     Error code:           0 (NONE)\n",
      "                     Message body length:  25\n",
      "                    -----------------------------------------------------------------\n",
      "                     STRING                \n",
      "                     LONG                  2000\n",
      "                     LONG                  1000\n",
      "                     BYTE                  0\n",
      "                     BYTE                  11\n",
      "                    ==================================================================\n",
      " \n",
      "                    ==================================================================\n",
      "                     Client ID:            1\n",
      "                     Session ID:           1\n",
      "                     Command code:         31 (SEND_MATRIX_INFO)\n",
      "                     Error code:           0 (NONE)\n",
      "                     Message body length:  45\n",
      "                    -----------------------------------------------------------------\n",
      "                     MATRIX INFO           \n",
      "                                           Name:                  \n",
      "                                           ID:                    1\n",
      "\n",
      "                                           Number of rows:        2000\n",
      "                                           Number of columns:     1000\n",
      "\n",
      "                                           Sparse:                0\n",
      "                                           Layout:                VC_STAR\n",
      "                                           Number of partitions:  3\n",
      "                                           Worker assignments:    <alchemist.ProcessGrid.ProcessGrid object at 0x127df6630>\n",
      "                    ==================================================================\n",
      "done (3.6366e-01s)\n",
      "Sending array data to Alchemist ...  \n",
      "                    ==================================================================\n",
      "                     Client ID:            0\n",
      "                     Session ID:           0\n",
      "                     Command code:         34 (SEND_MATRIX_BLOCKS)\n",
      "                     Error code:           0 (NONE)\n",
      "                     Message body length:  5336052\n",
      "                    -----------------------------------------------------------------\n",
      "                     MATRIX ID             1\n",
      "                     MATRIX BLOCK          667x1000 | [   0    3    6    9   12   15   18   21   24   27   30   33   36   39\n",
      "   42   45   48   51   54   57   60   63   66   69   72   75   78   81\n",
      "   84   87   90   93   96   99  102  105  108  111  114  117  120  123\n",
      "  126  129  132  135  138  141  144  147  150  153  156  159  162  165\n",
      "  168  171  174  177  180  183  186  189  192  195  198  201  204  207\n",
      "  210  213  216  219  222  225  228  231  234  237  240  243  246  249\n",
      "  252  255  258  261  264  267  270  273  276  279  282  285  288  291\n",
      "  294  297  300  303  306  309  312  315  318  321  324  327  330  333\n",
      "  336  339  342  345  348  351  354  357  360  363  366  369  372  375\n",
      "  378  381  384  387  390  393  396  399  402  405  408  411  414  417\n",
      "  420  423  426  429  432  435  438  441  444  447  450  453  456  459\n",
      "  462  465  468  471  474  477  480  483  486  489  492  495  498  501\n",
      "  504  507  510  513  516  519  522  525  528  531  534  537  540  543\n",
      "  546  549  552  555  558  561  564  567  570  573  576  579  582  585\n",
      "  588  591  594  597  600  603  606  609  612  615  618  621  624  627\n",
      "  630  633  636  639  642  645  648  651  654  657  660  663  666  669\n",
      "  672  675  678  681  684  687  690  693  696  699  702  705  708  711\n",
      "  714  717  720  723  726  729  732  735  738  741  744  747  750  753\n",
      "  756  759  762  765  768  771  774  777  780  783  786  789  792  795\n",
      "  798  801  804  807  810  813  816  819  822  825  828  831  834  837\n",
      "  840  843  846  849  852  855  858  861  864  867  870  873  876  879\n",
      "  882  885  888  891  894  897  900  903  906  909  912  915  918  921\n",
      "  924  927  930  933  936  939  942  945  948  951  954  957  960  963\n",
      "  966  969  972  975  978  981  984  987  990  993  996  999 1002 1005\n",
      " 1008 1011 1014 1017 1020 1023 1026 1029 1032 1035 1038 1041 1044 1047\n",
      " 1050 1053 1056 1059 1062 1065 1068 1071 1074 1077 1080 1083 1086 1089\n",
      " 1092 1095 1098 1101 1104 1107 1110 1113 1116 1119 1122 1125 1128 1131\n",
      " 1134 1137 1140 1143 1146 1149 1152 1155 1158 1161 1164 1167 1170 1173\n",
      " 1176 1179 1182 1185 1188 1191 1194 1197 1200 1203 1206 1209 1212 1215\n",
      " 1218 1221 1224 1227 1230 1233 1236 1239 1242 1245 1248 1251 1254 1257\n",
      " 1260 1263 1266 1269 1272 1275 1278 1281 1284 1287 1290 1293 1296 1299\n",
      " 1302 1305 1308 1311 1314 1317 1320 1323 1326 1329 1332 1335 1338 1341\n",
      " 1344 1347 1350 1353 1356 1359 1362 1365 1368 1371 1374 1377 1380 1383\n",
      " 1386 1389 1392 1395 1398 1401 1404 1407 1410 1413 1416 1419 1422 1425\n",
      " 1428 1431 1434 1437 1440 1443 1446 1449 1452 1455 1458 1461 1464 1467\n",
      " 1470 1473 1476 1479 1482 1485 1488 1491 1494 1497 1500 1503 1506 1509\n",
      " 1512 1515 1518 1521 1524 1527 1530 1533 1536 1539 1542 1545 1548 1551\n",
      " 1554 1557 1560 1563 1566 1569 1572 1575 1578 1581 1584 1587 1590 1593\n",
      " 1596 1599 1602 1605 1608 1611 1614 1617 1620 1623 1626 1629 1632 1635\n",
      " 1638 1641 1644 1647 1650 1653 1656 1659 1662 1665 1668 1671 1674 1677\n",
      " 1680 1683 1686 1689 1692 1695 1698 1701 1704 1707 1710 1713 1716 1719\n",
      " 1722 1725 1728 1731 1734 1737 1740 1743 1746 1749 1752 1755 1758 1761\n",
      " 1764 1767 1770 1773 1776 1779 1782 1785 1788 1791 1794 1797 1800 1803\n",
      " 1806 1809 1812 1815 1818 1821 1824 1827 1830 1833 1836 1839 1842 1845\n",
      " 1848 1851 1854 1857 1860 1863 1866 1869 1872 1875 1878 1881 1884 1887\n",
      " 1890 1893 1896 1899 1902 1905 1908 1911 1914 1917 1920 1923 1926 1929\n",
      " 1932 1935 1938 1941 1944 1947 1950 1953 1956 1959 1962 1965 1968 1971\n",
      " 1974 1977 1980 1983 1986 1989 1992 1995 1998] | [  0   1   2   3   4   5   6   7   8   9  10  11  12  13  14  15  16  17\n",
      "  18  19  20  21  22  23  24  25  26  27  28  29  30  31  32  33  34  35\n",
      "  36  37  38  39  40  41  42  43  44  45  46  47  48  49  50  51  52  53\n",
      "  54  55  56  57  58  59  60  61  62  63  64  65  66  67  68  69  70  71\n",
      "  72  73  74  75  76  77  78  79  80  81  82  83  84  85  86  87  88  89\n",
      "  90  91  92  93  94  95  96  97  98  99 100 101 102 103 104 105 106 107\n",
      " 108 109 110 111 112 113 114 115 116 117 118 119 120 121 122 123 124 125\n",
      " 126 127 128 129 130 131 132 133 134 135 136 137 138 139 140 141 142 143\n",
      " 144 145 146 147 148 149 150 151 152 153 154 155 156 157 158 159 160 161\n",
      " 162 163 164 165 166 167 168 169 170 171 172 173 174 175 176 177 178 179\n",
      " 180 181 182 183 184 185 186 187 188 189 190 191 192 193 194 195 196 197\n",
      " 198 199 200 201 202 203 204 205 206 207 208 209 210 211 212 213 214 215\n",
      " 216 217 218 219 220 221 222 223 224 225 226 227 228 229 230 231 232 233\n",
      " 234 235 236 237 238 239 240 241 242 243 244 245 246 247 248 249 250 251\n",
      " 252 253 254 255 256 257 258 259 260 261 262 263 264 265 266 267 268 269\n",
      " 270 271 272 273 274 275 276 277 278 279 280 281 282 283 284 285 286 287\n",
      " 288 289 290 291 292 293 294 295 296 297 298 299 300 301 302 303 304 305\n",
      " 306 307 308 309 310 311 312 313 314 315 316 317 318 319 320 321 322 323\n",
      " 324 325 326 327 328 329 330 331 332 333 334 335 336 337 338 339 340 341\n",
      " 342 343 344 345 346 347 348 349 350 351 352 353 354 355 356 357 358 359\n",
      " 360 361 362 363 364 365 366 367 368 369 370 371 372 373 374 375 376 377\n",
      " 378 379 380 381 382 383 384 385 386 387 388 389 390 391 392 393 394 395\n",
      " 396 397 398 399 400 401 402 403 404 405 406 407 408 409 410 411 412 413\n",
      " 414 415 416 417 418 419 420 421 422 423 424 425 426 427 428 429 430 431\n",
      " 432 433 434 435 436 437 438 439 440 441 442 443 444 445 446 447 448 449\n",
      " 450 451 452 453 454 455 456 457 458 459 460 461 462 463 464 465 466 467\n",
      " 468 469 470 471 472 473 474 475 476 477 478 479 480 481 482 483 484 485\n",
      " 486 487 488 489 490 491 492 493 494 495 496 497 498 499 500 501 502 503\n",
      " 504 505 506 507 508 509 510 511 512 513 514 515 516 517 518 519 520 521\n",
      " 522 523 524 525 526 527 528 529 530 531 532 533 534 535 536 537 538 539\n",
      " 540 541 542 543 544 545 546 547 548 549 550 551 552 553 554 555 556 557\n",
      " 558 559 560 561 562 563 564 565 566 567 568 569 570 571 572 573 574 575\n",
      " 576 577 578 579 580 581 582 583 584 585 586 587 588 589 590 591 592 593\n",
      " 594 595 596 597 598 599 600 601 602 603 604 605 606 607 608 609 610 611\n",
      " 612 613 614 615 616 617 618 619 620 621 622 623 624 625 626 627 628 629\n",
      " 630 631 632 633 634 635 636 637 638 639 640 641 642 643 644 645 646 647\n",
      " 648 649 650 651 652 653 654 655 656 657 658 659 660 661 662 663 664 665\n",
      " 666 667 668 669 670 671 672 673 674 675 676 677 678 679 680 681 682 683\n",
      " 684 685 686 687 688 689 690 691 692 693 694 695 696 697 698 699 700 701\n",
      " 702 703 704 705 706 707 708 709 710 711 712 713 714 715 716 717 718 719\n",
      " 720 721 722 723 724 725 726 727 728 729 730 731 732 733 734 735 736 737\n",
      " 738 739 740 741 742 743 744 745 746 747 748 749 750 751 752 753 754 755\n",
      " 756 757 758 759 760 761 762 763 764 765 766 767 768 769 770 771 772 773\n",
      " 774 775 776 777 778 779 780 781 782 783 784 785 786 787 788 789 790 791\n",
      " 792 793 794 795 796 797 798 799 800 801 802 803 804 805 806 807 808 809\n",
      " 810 811 812 813 814 815 816 817 818 819 820 821 822 823 824 825 826 827\n",
      " 828 829 830 831 832 833 834 835 836 837 838 839 840 841 842 843 844 845\n",
      " 846 847 848 849 850 851 852 853 854 855 856 857 858 859 860 861 862 863\n",
      " 864 865 866 867 868 869 870 871 872 873 874 875 876 877 878 879 880 881\n",
      " 882 883 884 885 886 887 888 889 890 891 892 893 894 895 896 897 898 899\n",
      " 900 901 902 903 904 905 906 907 908 909 910 911 912 913 914 915 916 917\n",
      " 918 919 920 921 922 923 924 925 926 927 928 929 930 931 932 933 934 935\n",
      " 936 937 938 939 940 941 942 943 944 945 946 947 948 949 950 951 952 953\n",
      " 954 955 956 957 958 959 960 961 962 963 964 965 966 967 968 969 970 971\n",
      " 972 973 974 975 976 977 978 979 980 981 982 983 984 985 986 987 988 989\n",
      " 990 991 992 993 994 995 996 997 998 999]\n",
      "                    ==================================================================\n"
     ]
    },
    {
     "ename": "OSError",
     "evalue": "[Errno 57] Socket is not connected",
     "output_type": "error",
     "traceback": [
      "\u001b[0;31m---------------------------------------------------------------------------\u001b[0m",
      "\u001b[0;31mOSError\u001b[0m                                   Traceback (most recent call last)",
      "\u001b[0;32m<ipython-input-5-e431e43c2a6c>\u001b[0m in \u001b[0;36m<module>\u001b[0;34m\u001b[0m\n\u001b[1;32m      1\u001b[0m \u001b[0mA\u001b[0m \u001b[0;34m=\u001b[0m \u001b[0mnp\u001b[0m\u001b[0;34m.\u001b[0m\u001b[0mrandom\u001b[0m\u001b[0;34m.\u001b[0m\u001b[0mrand\u001b[0m\u001b[0;34m(\u001b[0m\u001b[0;36m2000\u001b[0m\u001b[0;34m,\u001b[0m\u001b[0;36m1000\u001b[0m\u001b[0;34m)\u001b[0m\u001b[0;34m\u001b[0m\u001b[0m\n\u001b[1;32m      2\u001b[0m \u001b[0;34m\u001b[0m\u001b[0m\n\u001b[0;32m----> 3\u001b[0;31m \u001b[0mA_handle\u001b[0m \u001b[0;34m=\u001b[0m \u001b[0mals\u001b[0m\u001b[0;34m.\u001b[0m\u001b[0msend_matrix\u001b[0m\u001b[0;34m(\u001b[0m\u001b[0mmatrix\u001b[0m\u001b[0;34m=\u001b[0m\u001b[0mA\u001b[0m\u001b[0;34m,\u001b[0m \u001b[0mprint_times\u001b[0m\u001b[0;34m=\u001b[0m\u001b[0;32mTrue\u001b[0m\u001b[0;34m,\u001b[0m \u001b[0mlayout\u001b[0m\u001b[0;34m=\u001b[0m\u001b[0;34m\"VC_STAR\"\u001b[0m\u001b[0;34m)\u001b[0m\u001b[0;34m\u001b[0m\u001b[0m\n\u001b[0m",
      "\u001b[0;32m~/Projects/ACIPython/alchemist/Alchemist.py\u001b[0m in \u001b[0;36msend_matrix\u001b[0;34m(self, matrix, print_times, layout)\u001b[0m\n\u001b[1;32m     52\u001b[0m         \u001b[0mprint\u001b[0m\u001b[0;34m(\u001b[0m\u001b[0;34m\"Sending array data to Alchemist ... \"\u001b[0m\u001b[0;34m,\u001b[0m \u001b[0mend\u001b[0m\u001b[0;34m=\u001b[0m\u001b[0;34m\"\"\u001b[0m\u001b[0;34m,\u001b[0m \u001b[0mflush\u001b[0m\u001b[0;34m=\u001b[0m\u001b[0;32mTrue\u001b[0m\u001b[0;34m)\u001b[0m\u001b[0;34m\u001b[0m\u001b[0m\n\u001b[1;32m     53\u001b[0m         \u001b[0mstart\u001b[0m \u001b[0;34m=\u001b[0m \u001b[0mtime\u001b[0m\u001b[0;34m.\u001b[0m\u001b[0mtime\u001b[0m\u001b[0;34m(\u001b[0m\u001b[0;34m)\u001b[0m\u001b[0;34m\u001b[0m\u001b[0m\n\u001b[0;32m---> 54\u001b[0;31m         \u001b[0mtimes\u001b[0m \u001b[0;34m=\u001b[0m \u001b[0mself\u001b[0m\u001b[0;34m.\u001b[0m\u001b[0mworkers\u001b[0m\u001b[0;34m.\u001b[0m\u001b[0msend_matrix_blocks\u001b[0m\u001b[0;34m(\u001b[0m\u001b[0mmh\u001b[0m\u001b[0;34m,\u001b[0m \u001b[0mmatrix\u001b[0m\u001b[0;34m)\u001b[0m\u001b[0;34m\u001b[0m\u001b[0m\n\u001b[0m\u001b[1;32m     55\u001b[0m         \u001b[0mend\u001b[0m \u001b[0;34m=\u001b[0m \u001b[0mtime\u001b[0m\u001b[0;34m.\u001b[0m\u001b[0mtime\u001b[0m\u001b[0;34m(\u001b[0m\u001b[0;34m)\u001b[0m\u001b[0;34m\u001b[0m\u001b[0m\n\u001b[1;32m     56\u001b[0m         \u001b[0mprint\u001b[0m\u001b[0;34m(\u001b[0m\u001b[0;34m\"done ({0:.4e}s)\"\u001b[0m\u001b[0;34m.\u001b[0m\u001b[0mformat\u001b[0m\u001b[0;34m(\u001b[0m\u001b[0mend\u001b[0m \u001b[0;34m-\u001b[0m \u001b[0mstart\u001b[0m\u001b[0;34m)\u001b[0m\u001b[0;34m)\u001b[0m\u001b[0;34m\u001b[0m\u001b[0m\n",
      "\u001b[0;32m~/Projects/ACIPython/alchemist/Client.py\u001b[0m in \u001b[0;36msend_matrix_blocks\u001b[0;34m(self, mh, matrix)\u001b[0m\n\u001b[1;32m    481\u001b[0m         \u001b[0;32mfor\u001b[0m \u001b[0mi\u001b[0m \u001b[0;32min\u001b[0m \u001b[0mrange\u001b[0m\u001b[0;34m(\u001b[0m\u001b[0mself\u001b[0m\u001b[0;34m.\u001b[0m\u001b[0mnum_workers\u001b[0m\u001b[0;34m)\u001b[0m\u001b[0;34m:\u001b[0m\u001b[0;34m\u001b[0m\u001b[0m\n\u001b[1;32m    482\u001b[0m             \u001b[0mrows\u001b[0m\u001b[0;34m,\u001b[0m \u001b[0mcols\u001b[0m \u001b[0;34m=\u001b[0m \u001b[0mself\u001b[0m\u001b[0;34m.\u001b[0m\u001b[0mworkers\u001b[0m\u001b[0;34m[\u001b[0m\u001b[0mi\u001b[0m\u001b[0;34m]\u001b[0m\u001b[0;34m.\u001b[0m\u001b[0mget_layout\u001b[0m\u001b[0;34m(\u001b[0m\u001b[0mmh\u001b[0m\u001b[0;34m)\u001b[0m\u001b[0;34m\u001b[0m\u001b[0m\n\u001b[0;32m--> 483\u001b[0;31m             \u001b[0mself\u001b[0m\u001b[0;34m.\u001b[0m\u001b[0mtimes\u001b[0m\u001b[0;34m[\u001b[0m\u001b[0;34m:\u001b[0m\u001b[0;34m,\u001b[0m \u001b[0mi\u001b[0m\u001b[0;34m]\u001b[0m \u001b[0;34m=\u001b[0m \u001b[0mself\u001b[0m\u001b[0;34m.\u001b[0m\u001b[0mworkers\u001b[0m\u001b[0;34m[\u001b[0m\u001b[0mi\u001b[0m\u001b[0;34m]\u001b[0m\u001b[0;34m.\u001b[0m\u001b[0msend_matrix_block\u001b[0m\u001b[0;34m(\u001b[0m\u001b[0mmh\u001b[0m\u001b[0;34m,\u001b[0m \u001b[0mmatrix\u001b[0m\u001b[0;34m,\u001b[0m \u001b[0mrows\u001b[0m\u001b[0;34m,\u001b[0m \u001b[0mcols\u001b[0m\u001b[0;34m)\u001b[0m\u001b[0;34m\u001b[0m\u001b[0m\n\u001b[0m\u001b[1;32m    484\u001b[0m         \u001b[0;32mreturn\u001b[0m \u001b[0mself\u001b[0m\u001b[0;34m.\u001b[0m\u001b[0mtimes\u001b[0m\u001b[0;34m\u001b[0m\u001b[0m\n\u001b[1;32m    485\u001b[0m \u001b[0;34m\u001b[0m\u001b[0m\n",
      "\u001b[0;32m~/Projects/ACIPython/alchemist/Client.py\u001b[0m in \u001b[0;36msend_matrix_block\u001b[0;34m(self, ah, matrix, rows, cols)\u001b[0m\n\u001b[1;32m    342\u001b[0m         \u001b[0mtimes\u001b[0m\u001b[0;34m.\u001b[0m\u001b[0mappend\u001b[0m\u001b[0;34m(\u001b[0m\u001b[0mtime\u001b[0m\u001b[0;34m.\u001b[0m\u001b[0mtime\u001b[0m\u001b[0;34m(\u001b[0m\u001b[0;34m)\u001b[0m \u001b[0;34m-\u001b[0m \u001b[0mstart\u001b[0m\u001b[0;34m)\u001b[0m\u001b[0;34m\u001b[0m\u001b[0m\n\u001b[1;32m    343\u001b[0m \u001b[0;34m\u001b[0m\u001b[0m\n\u001b[0;32m--> 344\u001b[0;31m         \u001b[0m_\u001b[0m\u001b[0;34m,\u001b[0m \u001b[0msend_time\u001b[0m \u001b[0;34m=\u001b[0m \u001b[0mself\u001b[0m\u001b[0;34m.\u001b[0m\u001b[0msend_message\u001b[0m\u001b[0;34m(\u001b[0m\u001b[0;34m)\u001b[0m\u001b[0;34m\u001b[0m\u001b[0m\n\u001b[0m\u001b[1;32m    345\u001b[0m         \u001b[0mtimes\u001b[0m\u001b[0;34m.\u001b[0m\u001b[0mappend\u001b[0m\u001b[0;34m(\u001b[0m\u001b[0msend_time\u001b[0m\u001b[0;34m)\u001b[0m\u001b[0;34m\u001b[0m\u001b[0m\n\u001b[1;32m    346\u001b[0m         \u001b[0m_\u001b[0m\u001b[0;34m,\u001b[0m \u001b[0mreceive_time\u001b[0m \u001b[0;34m=\u001b[0m \u001b[0mself\u001b[0m\u001b[0;34m.\u001b[0m\u001b[0mreceive_message\u001b[0m\u001b[0;34m(\u001b[0m\u001b[0;34m)\u001b[0m\u001b[0;34m\u001b[0m\u001b[0m\n",
      "\u001b[0;32m~/Projects/ACIPython/alchemist/Client.py\u001b[0m in \u001b[0;36msend_message\u001b[0;34m(self)\u001b[0m\n\u001b[1;32m     73\u001b[0m             \u001b[0mself\u001b[0m\u001b[0;34m.\u001b[0m\u001b[0moutput_message\u001b[0m\u001b[0;34m.\u001b[0m\u001b[0mprint\u001b[0m\u001b[0;34m(\u001b[0m\u001b[0;34m)\u001b[0m\u001b[0;34m\u001b[0m\u001b[0m\n\u001b[1;32m     74\u001b[0m             \u001b[0mstart_time\u001b[0m \u001b[0;34m=\u001b[0m \u001b[0mtime\u001b[0m\u001b[0;34m.\u001b[0m\u001b[0mtime\u001b[0m\u001b[0;34m(\u001b[0m\u001b[0;34m)\u001b[0m\u001b[0;34m\u001b[0m\u001b[0m\n\u001b[0;32m---> 75\u001b[0;31m             \u001b[0mself\u001b[0m\u001b[0;34m.\u001b[0m\u001b[0msock\u001b[0m\u001b[0;34m.\u001b[0m\u001b[0msendall\u001b[0m\u001b[0;34m(\u001b[0m\u001b[0mself\u001b[0m\u001b[0;34m.\u001b[0m\u001b[0moutput_message\u001b[0m\u001b[0;34m.\u001b[0m\u001b[0mget\u001b[0m\u001b[0;34m(\u001b[0m\u001b[0;34m)\u001b[0m\u001b[0;34m)\u001b[0m\u001b[0;34m\u001b[0m\u001b[0m\n\u001b[0m\u001b[1;32m     76\u001b[0m             \u001b[0msend_time\u001b[0m \u001b[0;34m=\u001b[0m \u001b[0mtime\u001b[0m\u001b[0;34m.\u001b[0m\u001b[0mtime\u001b[0m\u001b[0;34m(\u001b[0m\u001b[0;34m)\u001b[0m \u001b[0;34m-\u001b[0m \u001b[0mstart_time\u001b[0m\u001b[0;34m\u001b[0m\u001b[0m\n\u001b[1;32m     77\u001b[0m             \u001b[0mself\u001b[0m\u001b[0;34m.\u001b[0m\u001b[0moutput_message\u001b[0m\u001b[0;34m.\u001b[0m\u001b[0mreset\u001b[0m\u001b[0;34m(\u001b[0m\u001b[0;34m)\u001b[0m\u001b[0;34m\u001b[0m\u001b[0m\n",
      "\u001b[0;31mOSError\u001b[0m: [Errno 57] Socket is not connected"
     ]
    }
   ],
   "source": [
    "A = np.random.rand(2000,1000)\n",
    "\n",
    "A_handle = als.send_matrix(matrix=A, print_times=True, layout=\"VC_STAR\")"
   ]
  },
  {
   "cell_type": "code",
   "execution_count": null,
   "metadata": {},
   "outputs": [],
   "source": [
    "rank = 20\n",
    "S_handle, U_handle, V_handle = TestLib.truncated_svd(A_handle, rank)"
   ]
  },
  {
   "cell_type": "code",
   "execution_count": null,
   "metadata": {},
   "outputs": [],
   "source": [
    "S = als.fetch_matrix(S_handle, print_times=True)\n",
    "\n",
    "print(np.flipud(S).transpose())"
   ]
  },
  {
   "cell_type": "code",
   "execution_count": null,
   "metadata": {},
   "outputs": [],
   "source": [
    "V = als.fetch_matrix(V_handle, print_times=True)\n",
    "U = als.fetch_matrix(U_handle, print_times=True)\n",
    "S = als.fetch_matrix(S_handle, print_times=True)"
   ]
  },
  {
   "cell_type": "code",
   "execution_count": null,
   "metadata": {},
   "outputs": [],
   "source": [
    "u, s, vh = np.linalg.svd(A, full_matrices=True)"
   ]
  },
  {
   "cell_type": "code",
   "execution_count": null,
   "metadata": {},
   "outputs": [],
   "source": [
    "print(np.linalg.norm(abs(V.T) - abs(np.flipud(vh[0:rank,:]))))\n",
    "print(np.linalg.norm(abs(U) - abs(np.fliplr(u[:,0:rank]))))\n",
    "print(np.linalg.norm(np.flip(S).T - s[0:rank]))"
   ]
  },
  {
   "cell_type": "code",
   "execution_count": null,
   "metadata": {},
   "outputs": [],
   "source": [
    "als.stop()"
   ]
  },
  {
   "cell_type": "code",
   "execution_count": null,
   "metadata": {},
   "outputs": [],
   "source": []
  }
 ],
 "metadata": {
  "kernelspec": {
   "display_name": "Python 3",
   "language": "python",
   "name": "python3"
  },
  "language_info": {
   "codemirror_mode": {
    "name": "ipython",
    "version": 3
   },
   "file_extension": ".py",
   "mimetype": "text/x-python",
   "name": "python",
   "nbconvert_exporter": "python",
   "pygments_lexer": "ipython3",
   "version": "3.7.0"
  }
 },
 "nbformat": 4,
 "nbformat_minor": 2
}
