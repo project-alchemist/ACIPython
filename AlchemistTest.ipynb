{
 "cells": [
  {
   "cell_type": "code",
   "execution_count": null,
   "metadata": {},
   "outputs": [],
   "source": [
    "# testlib_path = \"/data/Alchemist-TestLib/target/testlib.dylib\"\n",
    "# testlib_path = \"/Users/kai/Projects/AlLib/target/testlib.dylib\""
   ]
  },
  {
   "cell_type": "code",
   "execution_count": null,
   "metadata": {},
   "outputs": [],
   "source": [
    "from alchemist import *\n",
    "import numpy as np\n",
    "\n",
    "als = AlchemistSession()        # Start Alchemist session\n",
    "\n",
    "als.connect_to_alchemist(\"0.0.0.0\", 24960)"
   ]
  },
  {
   "cell_type": "code",
   "execution_count": null,
   "metadata": {},
   "outputs": [],
   "source": [
    "als.request_workers(3) "
   ]
  },
  {
   "cell_type": "code",
   "execution_count": null,
   "metadata": {},
   "outputs": [],
   "source": [
    "TestLib = als.load_library(\"TestLib\", testlib_path)"
   ]
  },
  {
   "cell_type": "code",
   "execution_count": null,
   "metadata": {},
   "outputs": [],
   "source": [
    "A = np.random.rand(2000,1000)\n",
    "\n",
    "A_handle = als.send_matrix(matrix=A, print_times=True, layout=\"VC_STAR\")"
   ]
  },
  {
   "cell_type": "code",
   "execution_count": null,
   "metadata": {},
   "outputs": [],
   "source": [
    "rank = 20\n",
    "S_handle, U_handle, V_handle = TestLib.truncated_svd(A_handle, rank)"
   ]
  },
  {
   "cell_type": "code",
   "execution_count": null,
   "metadata": {},
   "outputs": [],
   "source": [
    "S = als.fetch_matrix(S_handle, print_times=True)\n",
    "\n",
    "print(np.flipud(S).transpose())"
   ]
  },
  {
   "cell_type": "code",
   "execution_count": null,
   "metadata": {},
   "outputs": [],
   "source": [
    "V = als.fetch_matrix(V_handle, print_times=True)\n",
    "U = als.fetch_matrix(U_handle, print_times=True)\n",
    "S = als.fetch_matrix(S_handle, print_times=True)"
   ]
  },
  {
   "cell_type": "code",
   "execution_count": null,
   "metadata": {},
   "outputs": [],
   "source": [
    "u, s, vh = np.linalg.svd(A, full_matrices=True)"
   ]
  },
  {
   "cell_type": "code",
   "execution_count": null,
   "metadata": {},
   "outputs": [],
   "source": [
    "print(np.linalg.norm(abs(V.T) - abs(np.flipud(vh[0:rank,:]))))\n",
    "print(np.linalg.norm(abs(U) - abs(np.fliplr(u[:,0:rank]))))\n",
    "print(np.linalg.norm(np.flip(S).T - s[0:rank]))"
   ]
  },
  {
   "cell_type": "code",
   "execution_count": null,
   "metadata": {},
   "outputs": [],
   "source": [
    "als.stop()"
   ]
  },
  {
   "cell_type": "code",
   "execution_count": null,
   "metadata": {},
   "outputs": [],
   "source": []
  }
 ],
 "metadata": {
  "kernelspec": {
   "display_name": "Python 3",
   "language": "python",
   "name": "python3"
  },
  "language_info": {
   "codemirror_mode": {
    "name": "ipython",
    "version": 3
   },
   "file_extension": ".py",
   "mimetype": "text/x-python",
   "name": "python",
   "nbconvert_exporter": "python",
   "pygments_lexer": "ipython3",
   "version": "3.7.0"
  }
 },
 "nbformat": 4,
 "nbformat_minor": 2
}
