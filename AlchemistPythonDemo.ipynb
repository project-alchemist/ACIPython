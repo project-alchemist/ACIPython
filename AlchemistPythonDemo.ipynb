{
 "cells": [
  {
   "cell_type": "markdown",
   "metadata": {},
   "source": [
    "# Alchemist: A Python <=> MPI Interface"
   ]
  },
  {
   "cell_type": "markdown",
   "metadata": {},
   "source": [
    "We start the Alchemist tutorial by playing around with its Python interface. The Python interface itself is running on a single core, but connects to Alchemist, which is running on multiple machines/cores, to do its distributed computations.\n",
    "\n",
    "Let us use Alchemist to perform some distributed operation on a dataset. In line with what we have seen in the tutorials for the Ristretto package, we will compute the first 200 singular values of a large dataset, the 36GB ocean temperature HDF5 file. In Ristretto we saw how we can do this by loading chunks of the data into memory, in this case we will be sending the data to Alchemist (in chunks), and then we will fetch the results."
   ]
  },
  {
   "cell_type": "markdown",
   "metadata": {},
   "source": [
    "## Starting Alchemist"
   ]
  },
  {
   "cell_type": "markdown",
   "metadata": {},
   "source": [
    "Let us start Alchemist:\n",
    "\n",
    "1) Go to the Jupyter tab in your browser (the one to the left of this one)\n",
    "\n",
    "2) Click on the 'New' button (top right)\n",
    "\n",
    "2) Select 'Terminal' under 'Other' - this will open a new tab with a terminal \n",
    "\n",
    "3) Enter 'cd /usr/local/Alchemist'\n",
    "\n",
    "4) Enter './start.sh'"
   ]
  },
  {
   "cell_type": "markdown",
   "metadata": {},
   "source": [
    "This will start Alchemist on your machine. You should see some preamble, concluding with \"Accepting connections ...\". This means that Alchemist is ready."
   ]
  },
  {
   "cell_type": "markdown",
   "metadata": {},
   "source": [
    "## Connecting to Alchemist"
   ]
  },
  {
   "cell_type": "markdown",
   "metadata": {},
   "source": [
    "We now ignore the terminal and work in this notebook. First, let us load some dependencies:"
   ]
  },
  {
   "cell_type": "code",
   "execution_count": 1,
   "metadata": {},
   "outputs": [],
   "source": [
    "from alchemist import *\n",
    "import numpy as np"
   ]
  },
  {
   "cell_type": "markdown",
   "metadata": {},
   "source": [
    "Next, we need to start an AlchemistSession instance. "
   ]
  },
  {
   "cell_type": "code",
   "execution_count": 2,
   "metadata": {},
   "outputs": [
    {
     "name": "stdout",
     "output_type": "stream",
     "text": [
      "Starting Alchemist session\n",
      "Alchemist session ready\n"
     ]
    }
   ],
   "source": [
    "als = AlchemistSession()                  # Start AlchemistSession instance"
   ]
  },
  {
   "cell_type": "markdown",
   "metadata": {},
   "source": [
    "Connect to Alchemist server at address \"0.0.0.0\" and port 24960. \n",
    "\n",
    "Note 1: The Alchemist server would normally not be running locally.\n",
    "\n",
    "Note 2: The Alchemist interface would usually read this information automatically from a file provided by the network administrator, but for the purposes of this tutorial we input the information directly."
   ]
  },
  {
   "cell_type": "code",
   "execution_count": 3,
   "metadata": {},
   "outputs": [
    {
     "name": "stdout",
     "output_type": "stream",
     "text": [
      "Connecting to Alchemist at 0.0.0.0:24960 ...\n",
      " \n",
      "                         ==============================================\n",
      "                         Client ID:           1\n",
      "                         Session ID:          0\n",
      "                         Command code:        1 (HANDSHAKE)\n",
      "                         Message body length: 16\n",
      "                         ----------------------------------------------\n",
      "                         Datatype (length):   SHORT (1)\n",
      "                         Data:                4321 \n",
      " \n",
      "                         Datatype (length):   STRING (4)\n",
      "                         Data:                DCBA\n",
      "                         ==============================================\n",
      "Connected to Alchemist!\n"
     ]
    }
   ],
   "source": [
    "address = \"0.0.0.0\"\n",
    "port = 24960                     \n",
    "\n",
    "als.connect_to_alchemist(address, port)   "
   ]
  },
  {
   "cell_type": "markdown",
   "metadata": {},
   "source": [
    "Now that we're connected to Alchemist, we need to request some workers. In general, if Alchemist is running on N nodes, then one of those will be the driver node, so there will be N-1 worker nodes. Some of these nodes could be used by other jobs, so we can ask Alchemist to list the status of the workers using the 'list_alchemist_workers()' command."
   ]
  },
  {
   "cell_type": "code",
   "execution_count": 4,
   "metadata": {},
   "outputs": [
    {
     "name": "stdout",
     "output_type": "stream",
     "text": [
      " \n",
      "                         ==============================================\n",
      "                         Client ID:           1\n",
      "                         Session ID:          0\n",
      "                         Command code:        9 (LIST_ALL_WORKERS)\n",
      "                         Message body length: 266\n",
      "                         ----------------------------------------------\n",
      "                         Datatype (length):   SHORT (1)\n",
      "                         Data:                3 \n",
      " \n",
      "                         Datatype (length):   STRING (254)\n",
      "                         Data:                List of workers:\n",
      "    Worker-001 running on dhcp-45-97.EECS.Berkeley.EDU at 0.0.0.0:24961 - idle\n",
      "    Worker-002 running on dhcp-45-97.EECS.Berkeley.EDU at 0.0.0.0:24962 - idle\n",
      "    Worker-003 running on dhcp-45-97.EECS.Berkeley.EDU at 0.0.0.0:24963 - idle\n",
      "\n",
      "                         ==============================================\n",
      "List of workers:\n",
      "    Worker-001 running on dhcp-45-97.EECS.Berkeley.EDU at 0.0.0.0:24961 - idle\n",
      "    Worker-002 running on dhcp-45-97.EECS.Berkeley.EDU at 0.0.0.0:24962 - idle\n",
      "    Worker-003 running on dhcp-45-97.EECS.Berkeley.EDU at 0.0.0.0:24963 - idle\n",
      "\n"
     ]
    }
   ],
   "source": [
    "als.list_alchemist_workers()"
   ]
  },
  {
   "cell_type": "markdown",
   "metadata": {},
   "source": [
    "All nodes are currently available, which shouldn't be all too surprising since nobody else is using this particular Alchemist instance. Let's request some available workers."
   ]
  },
  {
   "cell_type": "code",
   "execution_count": 5,
   "metadata": {},
   "outputs": [
    {
     "name": "stdout",
     "output_type": "stream",
     "text": [
      "Requesting 2 workers from Alchemist\n",
      " \n",
      "                         ==============================================\n",
      "                         Client ID:           1\n",
      "                         Session ID:          0\n",
      "                         Command code:        6 (REQUEST_WORKERS)\n",
      "                         Message body length: 115\n",
      "                         ----------------------------------------------\n",
      "                         Datatype (length):   SHORT (2)\n",
      "                         Data:                2 1 \n",
      " \n",
      "                         Datatype (length):   STRING (28)\n",
      "                         Data:                dhcp-45-97.EECS.Berkeley.EDU\n",
      " \n",
      "                         Datatype (length):   STRING (7)\n",
      "                         Data:                0.0.0.0\n",
      " \n",
      "                         Datatype (length):   SHORT (2)\n",
      "                         Data:                24961 2 \n",
      " \n",
      "                         Datatype (length):   STRING (28)\n",
      "                         Data:                dhcp-45-97.EECS.Berkeley.EDU\n",
      " \n",
      "                         Datatype (length):   STRING (7)\n",
      "                         Data:                0.0.0.0\n",
      " \n",
      "                         Datatype (length):   SHORT (1)\n",
      "                         Data:                24962 \n",
      "                         ==============================================\n",
      "Allocated 2 workers:\n",
      "  Worker-1 on dhcp-45-97.EECS.Berkeley.EDU at 0.0.0.0:24961\n",
      "  Worker-2 on dhcp-45-97.EECS.Berkeley.EDU at 0.0.0.0:24962\n",
      "Connecting to Alchemist at 0.0.0.0:24961 ...\n",
      "Connected to Alchemist!\n",
      "Connecting to Alchemist at 0.0.0.0:24962 ...\n",
      "Connected to Alchemist!\n"
     ]
    }
   ],
   "source": [
    "num_workers = 2                         # Try a sensible number of workers here\n",
    "\n",
    "als.request_workers(num_workers)        # Request 'num_workers' workers from Alchemist"
   ]
  },
  {
   "cell_type": "markdown",
   "metadata": {},
   "source": [
    "As you can see by the output, the interface automatically connects to the allocated workers. \n",
    "\n",
    "This isn't necessary, but we can check the connection by sending a test string from each workers and displaying the response by Alchemist."
   ]
  },
  {
   "cell_type": "code",
   "execution_count": 6,
   "metadata": {},
   "outputs": [
    {
     "name": "stdout",
     "output_type": "stream",
     "text": [
      "Sending test message: 'This is a test message from client 1'\n",
      "Alchemist returned: 'Alchemist worker received: 'This is a test message from client 1''\n",
      "Sending test message: 'This is a test message from client 1'\n",
      "Alchemist returned: 'Alchemist worker received: 'This is a test message from client 1''\n"
     ]
    }
   ],
   "source": [
    "als.workers.send_test_string()          # Send test string and display response"
   ]
  },
  {
   "cell_type": "markdown",
   "metadata": {},
   "source": [
    "## Loading data and sending it to Alchemist"
   ]
  },
  {
   "cell_type": "markdown",
   "metadata": {},
   "source": [
    "We are now ready to load some data and have Alchemist work on it. We'll be using the 'sstHD.hdf5' dataset used in the Ristretto tutorial. The 'read_from_hdf5' function in ALchemist requires the file name as input:"
   ]
  },
  {
   "cell_type": "code",
   "execution_count": 7,
   "metadata": {},
   "outputs": [
    {
     "name": "stdout",
     "output_type": "stream",
     "text": [
      "Loaded /Users/kai/Downloads/NEON-DS-Imaging-Spectrometer-Data.h5\n"
     ]
    }
   ],
   "source": [
    "# Read H5 file\n",
    "file_name = \"/Users/kai/Downloads/NEON-DS-Imaging-Spectrometer-Data.h5\"\n",
    "# file_name = \"/mnt/data/sstHD.hdf5\"\n",
    "\n",
    "f = als.read_from_hdf5(file_name)                # Fix this"
   ]
  },
  {
   "cell_type": "markdown",
   "metadata": {},
   "source": [
    "There's only one dataset in this particular HDF5 file, called 'sstHD', so let's extract it:"
   ]
  },
  {
   "cell_type": "code",
   "execution_count": 8,
   "metadata": {},
   "outputs": [],
   "source": [
    "# sstHD = f['sstHD']\n",
    "sstHD = np.float64(f['Reflectance'][:,:,20])"
   ]
  },
  {
   "cell_type": "markdown",
   "metadata": {},
   "source": [
    "The dataset can now be sent from the interface to Alchemist for processing. As before, it is assumed to be too large to fit in memory, so behind the scenes the dataset is split up into chunks and sent to Alchemist in pieces"
   ]
  },
  {
   "cell_type": "code",
   "execution_count": 9,
   "metadata": {},
   "outputs": [
    {
     "name": "stdout",
     "output_type": "stream",
     "text": [
      "Sending matrix info to Alchemist ...\n",
      " \n",
      "                         ==============================================\n",
      "                         Client ID:           1\n",
      "                         Session ID:          0\n",
      "                         Command code:        16 (MATRIX_INFO)\n",
      "                         Message body length: 885\n",
      "                         ----------------------------------------------\n",
      "                         Datatype (length):   SHORT (1)\n",
      "                         Data:                1 \n",
      " \n",
      "                         Datatype (length):   LONG (2)\n",
      "                         Data:                426 502 \n",
      " \n",
      "                         Datatype (length):   SHORT (426)\n",
      "                         Data:                1 2 1 2 1 2 1 2 1 2 1 2 1 2 1 2 1 2 1 2 1 2 1 2 1 2 1 2 1 2 1 2 1 2 1 2 1 2 1 2 1 2 1 2 1 2 1 2 1 2 1 2 1 2 1 2 1 2 1 2 1 2 1 2 1 2 1 2 1 2 1 2 1 2 1 2 1 2 1 2 1 2 1 2 1 2 1 2 1 2 1 2 1 2 1 2 1 2 1 2 1 2 1 2 1 2 1 2 1 2 1 2 1 2 1 2 1 2 1 2 1 2 1 2 1 2 1 2 1 2 1 2 1 2 1 2 1 2 1 2 1 2 1 2 1 2 1 2 1 2 1 2 1 2 1 2 1 2 1 2 1 2 1 2 1 2 1 2 1 2 1 2 1 2 1 2 1 2 1 2 1 2 1 2 1 2 1 2 1 2 1 2 1 2 1 2 1 2 1 2 1 2 1 2 1 2 1 2 1 2 1 2 1 2 1 2 1 2 1 2 1 2 1 2 1 2 1 2 1 2 1 2 1 2 1 2 1 2 1 2 1 2 1 2 1 2 1 2 1 2 1 2 1 2 1 2 1 2 1 2 1 2 1 2 1 2 1 2 1 2 1 2 1 2 1 2 1 2 1 2 1 2 1 2 1 2 1 2 1 2 1 2 1 2 1 2 1 2 1 2 1 2 1 2 1 2 1 2 1 2 1 2 1 2 1 2 1 2 1 2 1 2 1 2 1 2 1 2 1 2 1 2 1 2 1 2 1 2 1 2 1 2 1 2 1 2 1 2 1 2 1 2 1 2 1 2 1 2 1 2 1 2 1 2 1 2 1 2 1 2 1 2 1 2 1 2 1 2 1 2 1 2 1 2 1 2 1 2 1 2 1 2 1 2 1 2 1 2 1 2 1 2 1 2 1 2 1 2 1 2 1 2 1 2 1 2 1 2 1 2 1 2 1 2 1 2 \n",
      "                         ==============================================\n",
      " \n",
      "                         ==============================================\n",
      "                         Client ID:           1\n",
      "                         Session ID:          0\n",
      "                         Command code:        16 (MATRIX_INFO)\n",
      "                         Message body length: 885\n",
      "                         ----------------------------------------------\n",
      "                         Datatype (length):   SHORT (1)\n",
      "                         Data:                1 \n",
      " \n",
      "                         Datatype (length):   LONG (2)\n",
      "                         Data:                426 502 \n",
      " \n",
      "                         Datatype (length):   SHORT (426)\n",
      "                         Data:                1 2 1 2 1 2 1 2 1 2 1 2 1 2 1 2 1 2 1 2 1 2 1 2 1 2 1 2 1 2 1 2 1 2 1 2 1 2 1 2 1 2 1 2 1 2 1 2 1 2 1 2 1 2 1 2 1 2 1 2 1 2 1 2 1 2 1 2 1 2 1 2 1 2 1 2 1 2 1 2 1 2 1 2 1 2 1 2 1 2 1 2 1 2 1 2 1 2 1 2 1 2 1 2 1 2 1 2 1 2 1 2 1 2 1 2 1 2 1 2 1 2 1 2 1 2 1 2 1 2 1 2 1 2 1 2 1 2 1 2 1 2 1 2 1 2 1 2 1 2 1 2 1 2 1 2 1 2 1 2 1 2 1 2 1 2 1 2 1 2 1 2 1 2 1 2 1 2 1 2 1 2 1 2 1 2 1 2 1 2 1 2 1 2 1 2 1 2 1 2 1 2 1 2 1 2 1 2 1 2 1 2 1 2 1 2 1 2 1 2 1 2 1 2 1 2 1 2 1 2 1 2 1 2 1 2 1 2 1 2 1 2 1 2 1 2 1 2 1 2 1 2 1 2 1 2 1 2 1 2 1 2 1 2 1 2 1 2 1 2 1 2 1 2 1 2 1 2 1 2 1 2 1 2 1 2 1 2 1 2 1 2 1 2 1 2 1 2 1 2 1 2 1 2 1 2 1 2 1 2 1 2 1 2 1 2 1 2 1 2 1 2 1 2 1 2 1 2 1 2 1 2 1 2 1 2 1 2 1 2 1 2 1 2 1 2 1 2 1 2 1 2 1 2 1 2 1 2 1 2 1 2 1 2 1 2 1 2 1 2 1 2 1 2 1 2 1 2 1 2 1 2 1 2 1 2 1 2 1 2 1 2 1 2 1 2 1 2 1 2 1 2 1 2 1 2 1 2 1 2 1 2 1 2 1 2 1 2 1 2 1 2 1 2 1 2 \n",
      "                         ==============================================\n",
      "Done!\n",
      "Alchemist worker 1 received 213 blocks\n",
      "Alchemist worker 2 received 213 blocks\n"
     ]
    }
   ],
   "source": [
    "alA = als.send_hdf5(sstHD)"
   ]
  },
  {
   "cell_type": "markdown",
   "metadata": {},
   "source": [
    "When a dataset gets sent to Alchemist, a matrix handle gets returned, in this case called 'alA'. This matrix handle includes meta-data such as the ID assigned to the dataset by Alchemist and the dimensions of the dataset. We can see this information using the handle's 'meta' function."
   ]
  },
  {
   "cell_type": "code",
   "execution_count": 10,
   "metadata": {},
   "outputs": [
    {
     "name": "stdout",
     "output_type": "stream",
     "text": [
      "ID:                    1\n",
      "Type:                  dense\n",
      " \n",
      "Number of rows:        426\n",
      "Number of columns:     502\n"
     ]
    }
   ],
   "source": [
    "alA.meta()"
   ]
  },
  {
   "cell_type": "markdown",
   "metadata": {},
   "source": [
    "Congratulations, you have successfully sent an HDF5 dataset to Alchemist! Now we can do something with it, but before that, we need to tell Alchemist what library has the MPI-based function that we want to use."
   ]
  },
  {
   "cell_type": "markdown",
   "metadata": {},
   "source": [
    "## Loading a library"
   ]
  },
  {
   "cell_type": "markdown",
   "metadata": {},
   "source": [
    "To use Alchemist, we must have one or more MPI-based libraries in mind. We tell Alchemist to load the library using the 'load_library' command. \n",
    "\n",
    "Behind the scenes, every MPI-based library that Alchemist has access to is interfaced with an Alchemist-Library Interface (ALI), which is a shared object file that is loaded dynamically at run time by the workers allocated to the current job. In our case, we have 'num_workers' workers assigned to this job, and only these workers load the requested library. But we, as users, don't have to worry about any of this.\n",
    "\n",
    "For the purposes of this tutorial, there is just one library available, a little testing library called 'TestLib' that has the distributed SVD implemented."
   ]
  },
  {
   "cell_type": "code",
   "execution_count": 11,
   "metadata": {},
   "outputs": [
    {
     "name": "stdout",
     "output_type": "stream",
     "text": [
      "Library TestLib loaded\n"
     ]
    }
   ],
   "source": [
    "lib_name = \"TestLib\"\n",
    "\n",
    "testlib = als.load_library(lib_name)    # The allocated workers load the library 'TestLib'"
   ]
  },
  {
   "cell_type": "markdown",
   "metadata": {},
   "source": [
    "What gets returned here is a handle to the library that we have called 'testlib' in this case. This handle provides the Alchemist interface with meta-data about the library, such as available methods and their input and output parameters."
   ]
  },
  {
   "cell_type": "markdown",
   "metadata": {},
   "source": [
    "## Running a task on Alchemist"
   ]
  },
  {
   "cell_type": "markdown",
   "metadata": {},
   "source": [
    "Now we can finally run the SVD ... again! Because we clearly didn't get enough of it in the Ristretto tutorial.\n",
    "\n",
    "The 'truncated_SVD' method is in the 'TestLib' library. AlchemistSession has a method 'run_task' that takes in the library handle, the name of the method as a string, and a variable length list of parameters that are the input parameters for the method. \n",
    "\n",
    "In the case of the 'truncated_SVD' method, it must know what matrix to operate on, and the number of singular values it should compute (called the 'rank'), and these need to be provided, in that order. \n",
    "\n",
    "The output of 'run_task' is a tuple with all the output parameters of the method. In the case of the SVD, these are the factors U and V, and the singular values (stored in the vector S). But we're not ready to receive all the output, nor would we necessarily want to have all of it. Alchemist instead returns matrix handles to all output matrices, so in this case we'd have the matrix handles 'alU', 'alS', and 'alV'."
   ]
  },
  {
   "cell_type": "code",
   "execution_count": 12,
   "metadata": {},
   "outputs": [
    {
     "name": "stdout",
     "output_type": "stream",
     "text": [
      "Alchemist started task truncated_SVD - please wait ...\n",
      " \n",
      "                         ==============================================\n",
      "                         Client ID:           1\n",
      "                         Session ID:          0\n",
      "                         Command code:        14 (RUN_TASK)\n",
      "                         Message body length: 1985\n",
      "                         ----------------------------------------------\n",
      "                         Datatype (length):   SHORT (1)\n",
      "                         Data:                2 \n",
      " \n",
      "                         Datatype (length):   LONG (2)\n",
      "                         Data:                426 20 \n",
      " \n",
      "                         Datatype (length):   SHORT (427)\n",
      "                         Data:                1 2 1 2 1 2 1 2 1 2 1 2 1 2 1 2 1 2 1 2 1 2 1 2 1 2 1 2 1 2 1 2 1 2 1 2 1 2 1 2 1 2 1 2 1 2 1 2 1 2 1 2 1 2 1 2 1 2 1 2 1 2 1 2 1 2 1 2 1 2 1 2 1 2 1 2 1 2 1 2 1 2 1 2 1 2 1 2 1 2 1 2 1 2 1 2 1 2 1 2 1 2 1 2 1 2 1 2 1 2 1 2 1 2 1 2 1 2 1 2 1 2 1 2 1 2 1 2 1 2 1 2 1 2 1 2 1 2 1 2 1 2 1 2 1 2 1 2 1 2 1 2 1 2 1 2 1 2 1 2 1 2 1 2 1 2 1 2 1 2 1 2 1 2 1 2 1 2 1 2 1 2 1 2 1 2 1 2 1 2 1 2 1 2 1 2 1 2 1 2 1 2 1 2 1 2 1 2 1 2 1 2 1 2 1 2 1 2 1 2 1 2 1 2 1 2 1 2 1 2 1 2 1 2 1 2 1 2 1 2 1 2 1 2 1 2 1 2 1 2 1 2 1 2 1 2 1 2 1 2 1 2 1 2 1 2 1 2 1 2 1 2 1 2 1 2 1 2 1 2 1 2 1 2 1 2 1 2 1 2 1 2 1 2 1 2 1 2 1 2 1 2 1 2 1 2 1 2 1 2 1 2 1 2 1 2 1 2 1 2 1 2 1 2 1 2 1 2 1 2 1 2 1 2 1 2 1 2 1 2 1 2 1 2 1 2 1 2 1 2 1 2 1 2 1 2 1 2 1 2 1 2 1 2 1 2 1 2 1 2 1 2 1 2 1 2 1 2 1 2 1 2 1 2 1 2 1 2 1 2 1 2 1 2 1 2 1 2 1 2 1 2 1 2 1 2 1 2 1 2 1 2 1 2 1 2 1 2 1 2 1 2 1 2 1 2 3 \n",
      " \n",
      "                         Datatype (length):   LONG (2)\n",
      "                         Data:                20 1 \n",
      " \n",
      "                         Datatype (length):   SHORT (21)\n",
      "                         Data:                1 2 1 2 1 2 1 2 1 2 1 2 1 2 1 2 1 2 1 2 4 \n",
      " \n",
      "                         Datatype (length):   LONG (2)\n",
      "                         Data:                502 20 \n",
      " \n",
      "                         Datatype (length):   SHORT (502)\n",
      "                         Data:                1 2 1 2 1 2 1 2 1 2 1 2 1 2 1 2 1 2 1 2 1 2 1 2 1 2 1 2 1 2 1 2 1 2 1 2 1 2 1 2 1 2 1 2 1 2 1 2 1 2 1 2 1 2 1 2 1 2 1 2 1 2 1 2 1 2 1 2 1 2 1 2 1 2 1 2 1 2 1 2 1 2 1 2 1 2 1 2 1 2 1 2 1 2 1 2 1 2 1 2 1 2 1 2 1 2 1 2 1 2 1 2 1 2 1 2 1 2 1 2 1 2 1 2 1 2 1 2 1 2 1 2 1 2 1 2 1 2 1 2 1 2 1 2 1 2 1 2 1 2 1 2 1 2 1 2 1 2 1 2 1 2 1 2 1 2 1 2 1 2 1 2 1 2 1 2 1 2 1 2 1 2 1 2 1 2 1 2 1 2 1 2 1 2 1 2 1 2 1 2 1 2 1 2 1 2 1 2 1 2 1 2 1 2 1 2 1 2 1 2 1 2 1 2 1 2 1 2 1 2 1 2 1 2 1 2 1 2 1 2 1 2 1 2 1 2 1 2 1 2 1 2 1 2 1 2 1 2 1 2 1 2 1 2 1 2 1 2 1 2 1 2 1 2 1 2 1 2 1 2 1 2 1 2 1 2 1 2 1 2 1 2 1 2 1 2 1 2 1 2 1 2 1 2 1 2 1 2 1 2 1 2 1 2 1 2 1 2 1 2 1 2 1 2 1 2 1 2 1 2 1 2 1 2 1 2 1 2 1 2 1 2 1 2 1 2 1 2 1 2 1 2 1 2 1 2 1 2 1 2 1 2 1 2 1 2 1 2 1 2 1 2 1 2 1 2 1 2 1 2 1 2 1 2 1 2 1 2 1 2 1 2 1 2 1 2 1 2 1 2 1 2 1 2 1 2 1 2 1 2 1 2 1 2 1 2 1 2 1 2 1 2 1 2 1 2 1 2 1 2 1 2 1 2 1 2 1 2 1 2 1 2 1 2 1 2 1 2 1 2 1 2 1 2 1 2 1 2 1 2 1 2 1 2 1 2 1 2 1 2 1 2 1 2 1 2 1 2 1 2 1 2 1 2 1 2 1 2 1 2 1 2 1 2 1 2 1 2 1 2 1 2 \n",
      "                         ==============================================\n",
      "Elapsed time for truncated SVD is 1.993783950805664\n"
     ]
    }
   ],
   "source": [
    "lib_handle = testlib\n",
    "method_name = \"truncated_SVD\"\n",
    "mat_handle = alA\n",
    "k = 20\n",
    "\n",
    "alU, alS, alV = als.run_task(lib_handle, method_name, mat_handle, k)"
   ]
  },
  {
   "cell_type": "markdown",
   "metadata": {},
   "source": [
    "We'll pretend that we're only interested in the first k singular values, so we'll ignore the matrix handles to U and V. \n",
    "\n",
    "To get Alchemist to send the data to us, we call AlchemistSession's 'get_array' method with the appropriate matrix handle (in this case, 'alS')."
   ]
  },
  {
   "cell_type": "code",
   "execution_count": 13,
   "metadata": {},
   "outputs": [
    {
     "name": "stdout",
     "output_type": "stream",
     "text": [
      "Fetching 20x1 array from Alchemist\n"
     ]
    }
   ],
   "source": [
    "S = als.get_array(alS)"
   ]
  },
  {
   "cell_type": "markdown",
   "metadata": {},
   "source": [
    "We can now do whatever we want with these first k singular values. Let's plot them using matplotlib:"
   ]
  },
  {
   "cell_type": "code",
   "execution_count": 14,
   "metadata": {},
   "outputs": [
    {
     "name": "stdout",
     "output_type": "stream",
     "text": [
      "[[   6005.64331891]\n",
      " [   6747.20048063]\n",
      " [   7052.89657075]\n",
      " [   7235.23985678]\n",
      " [   8434.22580606]\n",
      " [   8639.89473554]\n",
      " [   9249.05695512]\n",
      " [   9955.58406582]\n",
      " [  10414.33962664]\n",
      " [  11556.09978917]\n",
      " [  12781.15232804]\n",
      " [  15318.76845946]\n",
      " [  16641.62195538]\n",
      " [  19084.50100204]\n",
      " [  27288.09206881]\n",
      " [  35681.24940509]\n",
      " [  37739.20863976]\n",
      " [ 125762.07545787]\n",
      " [ 214939.32750271]\n",
      " [1346615.84103245]]\n"
     ]
    },
    {
     "data": {
      "text/plain": [
       "[<matplotlib.lines.Line2D at 0x11ba220b8>]"
      ]
     },
     "execution_count": 14,
     "metadata": {},
     "output_type": "execute_result"
    }
   ],
   "source": [
    "import matplotlib.pyplot as plt\n",
    "\n",
    "print(S)\n",
    "\n",
    "plt.plot(S)"
   ]
  },
  {
   "cell_type": "markdown",
   "metadata": {},
   "source": [
    "We can also ask Alchemist to return subarrays to us. Let's ask it to return only the first 5 singular values:"
   ]
  },
  {
   "cell_type": "code",
   "execution_count": 15,
   "metadata": {},
   "outputs": [
    {
     "name": "stdout",
     "output_type": "stream",
     "text": [
      "Fetching 5x1 array from Alchemist\n",
      "[[  35681.24940509]\n",
      " [  37739.20863976]\n",
      " [ 125762.07545787]\n",
      " [ 214939.32750271]\n",
      " [1346615.84103245]]\n"
     ]
    }
   ],
   "source": [
    "S = als.get_array(alS, rows=range(k-5,k))\n",
    "\n",
    "print(S)"
   ]
  },
  {
   "cell_type": "code",
   "execution_count": 16,
   "metadata": {},
   "outputs": [
    {
     "name": "stdout",
     "output_type": "stream",
     "text": [
      "Fetching 426x5 array from Alchemist\n",
      "[[ 2.06278629e-02 -7.24979534e-03 -3.17885212e-03  1.21279747e-03\n",
      "  -5.13264151e-03]\n",
      " [ 2.37552059e-02 -1.04299630e-02 -3.24342943e-03  1.43881875e-03\n",
      "  -6.15262619e-03]\n",
      " [ 2.34546581e-02 -1.00189384e-02 -2.78990605e-03  7.22489485e-04\n",
      "  -5.82882761e-03]\n",
      " [ 1.82614849e-02 -8.59645451e-03 -2.01208982e-03 -3.78391157e-04\n",
      "  -4.48573522e-03]\n",
      " [ 1.85273715e-02 -8.60605267e-03 -1.61844133e-03 -4.98861801e-04\n",
      "  -4.74811500e-03]\n",
      " [ 1.92467525e-02 -8.67481932e-03 -1.32702777e-03 -5.92520684e-04\n",
      "  -4.99608841e-03]\n",
      " [ 2.01564634e-02 -8.94726924e-03 -1.12026263e-03 -5.13150006e-04\n",
      "  -5.40237349e-03]\n",
      " [ 2.20603800e-02 -9.83939331e-03 -1.06075806e-03 -3.74391928e-04\n",
      "  -5.92677946e-03]\n",
      " [ 2.39355055e-02 -1.05437451e-02 -8.84267697e-04 -2.89147346e-05\n",
      "  -6.65496738e-03]\n",
      " [ 2.42821095e-02 -1.03392923e-02 -6.80279503e-04 -5.28456964e-05\n",
      "  -6.81380159e-03]\n",
      " [ 2.48445764e-02 -1.05733524e-02 -3.26503223e-04 -1.97374270e-04\n",
      "  -6.92046980e-03]\n",
      " [ 2.62670935e-02 -1.13383439e-02 -1.73149748e-04 -1.14017777e-04\n",
      "  -7.58249315e-03]\n",
      " [ 2.65657446e-02 -1.11307289e-02  1.67802455e-04 -2.78019235e-04\n",
      "  -7.66333571e-03]\n",
      " [ 2.60398119e-02 -1.08288035e-02  5.77767685e-04 -4.22363644e-04\n",
      "  -7.61834384e-03]\n",
      " [ 2.60477280e-02 -1.06600055e-02  8.08380274e-04 -5.56314678e-04\n",
      "  -7.88979216e-03]\n",
      " [ 2.72152454e-02 -1.10051815e-02  1.10061822e-03 -6.70327407e-04\n",
      "  -8.42168293e-03]\n",
      " [ 2.65884476e-02 -1.06495464e-02  1.36327528e-03 -8.94587145e-04\n",
      "  -8.36538387e-03]\n",
      " [ 2.59527867e-02 -1.07962960e-02  1.66598513e-03 -1.16415266e-03\n",
      "  -8.44073099e-03]\n",
      " [ 2.66689400e-02 -1.04881736e-02  2.00910151e-03 -1.32241659e-03\n",
      "  -8.80323791e-03]]\n"
     ]
    }
   ],
   "source": [
    "U = als.get_array(alU, cols=range(k-5,k))\n",
    "\n",
    "print(U[1:20,:])"
   ]
  },
  {
   "cell_type": "markdown",
   "metadata": {},
   "source": [
    "## Disconnecting from and stopping Alchemist"
   ]
  },
  {
   "cell_type": "markdown",
   "metadata": {},
   "source": [
    "Once done with Alchemist, it is important to stop the AlchemistSession instance using the 'stop()' command. This disconnects from Alchemist and frees up resources that Alchemist can then allocate to other jobs."
   ]
  },
  {
   "cell_type": "code",
   "execution_count": null,
   "metadata": {},
   "outputs": [],
   "source": [
    "als.stop()"
   ]
  },
  {
   "cell_type": "markdown",
   "metadata": {},
   "source": [
    "We are done with the current instance of Alchemist, so let us go back to the terminal in the other tab and stop this instance of Alchemist. There isn't an elegant way of stopping Alchemist (at least not from this interface), so we're going to have to kill it using brute force (i.e. Ctrl-C).\n",
    "\n",
    "The intention is for Alchemist to keep running and be available for other jobs, but for the purposes of this tutorial, we're done with this instance."
   ]
  },
  {
   "cell_type": "markdown",
   "metadata": {},
   "source": [
    "For any questions regarding Alchemist, e-mail kai.rothauge@berkeley.edu"
   ]
  },
  {
   "cell_type": "code",
   "execution_count": null,
   "metadata": {},
   "outputs": [],
   "source": []
  }
 ],
 "metadata": {
  "kernelspec": {
   "display_name": "Python 3",
   "language": "python",
   "name": "python3"
  },
  "language_info": {
   "codemirror_mode": {
    "name": "ipython",
    "version": 3
   },
   "file_extension": ".py",
   "mimetype": "text/x-python",
   "name": "python",
   "nbconvert_exporter": "python",
   "pygments_lexer": "ipython3",
   "version": "3.7.0"
  }
 },
 "nbformat": 4,
 "nbformat_minor": 2
}
